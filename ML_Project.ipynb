{
  "nbformat": 4,
  "nbformat_minor": 0,
  "metadata": {
    "colab": {
      "name": "ML_Project.ipynb",
      "provenance": [],
      "collapsed_sections": [
        "YjK0dJ2ZHJ78",
        "UltCDd7eLgM1",
        "0fguNEvwGSZD",
        "bU91ZDnLTkyY",
        "X7QAlPvmHwjm",
        "xXy73siSKp_l",
        "3gwyHgEKLhLg",
        "XyerACSRKZFf",
        "oK-X-wv2bI5N",
        "H1Ktpo95UrsO",
        "vHPYBd_ReB-T",
        "NdgLY0Rmqk2B",
        "nwSR7KPfypWE",
        "6vHeLNLgsv-s",
        "xWk6amJttl9q"
      ],
      "authorship_tag": "ABX9TyPB8Hct9FUAPg4bb8uoP0Xw",
      "include_colab_link": true
    },
    "kernelspec": {
      "name": "python3",
      "display_name": "Python 3"
    }
  },
  "cells": [
    {
      "cell_type": "markdown",
      "metadata": {
        "id": "view-in-github",
        "colab_type": "text"
      },
      "source": [
        "<a href=\"https://colab.research.google.com/github/Srividya1604/Car-Features-EDA-Project/blob/master/ML_Project.ipynb\" target=\"_parent\"><img src=\"https://colab.research.google.com/assets/colab-badge.svg\" alt=\"Open In Colab\"/></a>"
      ]
    },
    {
      "cell_type": "markdown",
      "metadata": {
        "id": "v2-aFEOq1IqN",
        "colab_type": "text"
      },
      "source": [
        "PROJECT TITLE :- Exploratory Data Analysis of Car Features"
      ]
    },
    {
      "cell_type": "markdown",
      "metadata": {
        "id": "bma7yMehX77D",
        "colab_type": "text"
      },
      "source": [
        "NAME :- SRIVIDYA AVADHANI"
      ]
    },
    {
      "cell_type": "markdown",
      "metadata": {
        "id": "H5GPEXJP1L_2",
        "colab_type": "text"
      },
      "source": [
        "Context of the project is Exploratory data\n",
        "analysis to be performed on how the different features of a car and its price are related. The data comes from the Kaggle dataset \"Car Features and MSRP\". It describes almost 12,000 car\n",
        "models, sold in the USA between 1990 and 2017, with the market price (new or used)and some features.\n",
        "The objective of the project is to do data pre-processing and exploratory data analysis\n",
        "of the dataset"
      ]
    },
    {
      "cell_type": "markdown",
      "metadata": {
        "id": "cxRnZbg91szP",
        "colab_type": "text"
      },
      "source": [
        "Exploratory Data Analysis, or EDA, is essentially a type of storytelling for statisticians. It allows us to uncover patterns and insights, often with visual methods, within data. EDA is often the first step of the data modelling process."
      ]
    },
    {
      "cell_type": "markdown",
      "metadata": {
        "id": "YjK0dJ2ZHJ78",
        "colab_type": "text"
      },
      "source": [
        "#Step 1.1 :- Importing all necessary libraries and loading dataset"
      ]
    },
    {
      "cell_type": "code",
      "metadata": {
        "id": "-MEr7StLDk1N",
        "colab_type": "code",
        "colab": {
          "base_uri": "https://localhost:8080/",
          "height": 70
        },
        "outputId": "1dc4be46-9458-433a-ee1b-6097d628f531"
      },
      "source": [
        "#importing necessary libraries\n",
        "\n",
        "#libraries for basic computation and visualisation\n",
        "import pandas as pd\n",
        "import numpy as np\n",
        "import matplotlib.pyplot as plt                                           #visualization\n",
        "import seaborn as sns                                                     #visualization\n",
        "%matplotlib inline\n",
        "\n",
        "#libraries for building model and checking accuracy and others\n",
        "from sklearn.metrics import r2_score,mean_squared_error\n",
        "from sklearn.model_selection import train_test_split\n",
        "from sklearn.metrics import confusion_matrix\n",
        "from sklearn.linear_model import LinearRegression\n",
        "import seaborn as seabornInstance \n",
        "from sklearn import metrics\n",
        "from sklearn import preprocessing\n"
      ],
      "execution_count": null,
      "outputs": [
        {
          "output_type": "stream",
          "text": [
            "/usr/local/lib/python3.6/dist-packages/statsmodels/tools/_testing.py:19: FutureWarning: pandas.util.testing is deprecated. Use the functions in the public API at pandas.testing instead.\n",
            "  import pandas.util.testing as tm\n"
          ],
          "name": "stderr"
        }
      ]
    },
    {
      "cell_type": "code",
      "metadata": {
        "id": "pwIl5C1YE0_d",
        "colab_type": "code",
        "colab": {}
      },
      "source": [
        "#loading the dataset\n",
        "car=pd.read_csv('/content/Car Analysis Kaggle.csv')"
      ],
      "execution_count": null,
      "outputs": []
    },
    {
      "cell_type": "markdown",
      "metadata": {
        "id": "UltCDd7eLgM1",
        "colab_type": "text"
      },
      "source": [
        "#Step 1.2 :- Following two is used to get a better view of dataset"
      ]
    },
    {
      "cell_type": "markdown",
      "metadata": {
        "id": "uHrbuk-Zm7sk",
        "colab_type": "text"
      },
      "source": [
        "transposed so that dataset can be viewed without scrolling "
      ]
    },
    {
      "cell_type": "code",
      "metadata": {
        "id": "VsV4eu21FJHX",
        "colab_type": "code",
        "colab": {
          "base_uri": "https://localhost:8080/",
          "height": 608
        },
        "outputId": "b3a694e4-1922-4c80-90c3-9ef5709af8f4"
      },
      "source": [
        "car.head().transpose()"
      ],
      "execution_count": null,
      "outputs": [
        {
          "output_type": "execute_result",
          "data": {
            "text/html": [
              "<div>\n",
              "<style scoped>\n",
              "    .dataframe tbody tr th:only-of-type {\n",
              "        vertical-align: middle;\n",
              "    }\n",
              "\n",
              "    .dataframe tbody tr th {\n",
              "        vertical-align: top;\n",
              "    }\n",
              "\n",
              "    .dataframe thead th {\n",
              "        text-align: right;\n",
              "    }\n",
              "</style>\n",
              "<table border=\"1\" class=\"dataframe\">\n",
              "  <thead>\n",
              "    <tr style=\"text-align: right;\">\n",
              "      <th></th>\n",
              "      <th>0</th>\n",
              "      <th>1</th>\n",
              "      <th>2</th>\n",
              "      <th>3</th>\n",
              "      <th>4</th>\n",
              "    </tr>\n",
              "  </thead>\n",
              "  <tbody>\n",
              "    <tr>\n",
              "      <th>Make</th>\n",
              "      <td>BMW</td>\n",
              "      <td>BMW</td>\n",
              "      <td>BMW</td>\n",
              "      <td>BMW</td>\n",
              "      <td>BMW</td>\n",
              "    </tr>\n",
              "    <tr>\n",
              "      <th>Model</th>\n",
              "      <td>1 Series M</td>\n",
              "      <td>1 Series</td>\n",
              "      <td>1 Series</td>\n",
              "      <td>1 Series</td>\n",
              "      <td>1 Series</td>\n",
              "    </tr>\n",
              "    <tr>\n",
              "      <th>Year</th>\n",
              "      <td>2011</td>\n",
              "      <td>2011</td>\n",
              "      <td>2011</td>\n",
              "      <td>2011</td>\n",
              "      <td>2011</td>\n",
              "    </tr>\n",
              "    <tr>\n",
              "      <th>Engine Fuel Type</th>\n",
              "      <td>premium unleaded (required)</td>\n",
              "      <td>premium unleaded (required)</td>\n",
              "      <td>premium unleaded (required)</td>\n",
              "      <td>premium unleaded (required)</td>\n",
              "      <td>premium unleaded (required)</td>\n",
              "    </tr>\n",
              "    <tr>\n",
              "      <th>Engine HP</th>\n",
              "      <td>335</td>\n",
              "      <td>300</td>\n",
              "      <td>300</td>\n",
              "      <td>230</td>\n",
              "      <td>230</td>\n",
              "    </tr>\n",
              "    <tr>\n",
              "      <th>Engine Cylinders</th>\n",
              "      <td>6</td>\n",
              "      <td>6</td>\n",
              "      <td>6</td>\n",
              "      <td>6</td>\n",
              "      <td>6</td>\n",
              "    </tr>\n",
              "    <tr>\n",
              "      <th>Transmission Type</th>\n",
              "      <td>MANUAL</td>\n",
              "      <td>MANUAL</td>\n",
              "      <td>MANUAL</td>\n",
              "      <td>MANUAL</td>\n",
              "      <td>MANUAL</td>\n",
              "    </tr>\n",
              "    <tr>\n",
              "      <th>Driven_Wheels</th>\n",
              "      <td>rear wheel drive</td>\n",
              "      <td>rear wheel drive</td>\n",
              "      <td>rear wheel drive</td>\n",
              "      <td>rear wheel drive</td>\n",
              "      <td>rear wheel drive</td>\n",
              "    </tr>\n",
              "    <tr>\n",
              "      <th>Number of Doors</th>\n",
              "      <td>2</td>\n",
              "      <td>2</td>\n",
              "      <td>2</td>\n",
              "      <td>2</td>\n",
              "      <td>2</td>\n",
              "    </tr>\n",
              "    <tr>\n",
              "      <th>Market Category</th>\n",
              "      <td>Factory Tuner,Luxury,High-Performance</td>\n",
              "      <td>Luxury,Performance</td>\n",
              "      <td>Luxury,High-Performance</td>\n",
              "      <td>Luxury,Performance</td>\n",
              "      <td>Luxury</td>\n",
              "    </tr>\n",
              "    <tr>\n",
              "      <th>Vehicle Size</th>\n",
              "      <td>Compact</td>\n",
              "      <td>Compact</td>\n",
              "      <td>Compact</td>\n",
              "      <td>Compact</td>\n",
              "      <td>Compact</td>\n",
              "    </tr>\n",
              "    <tr>\n",
              "      <th>Vehicle Style</th>\n",
              "      <td>Coupe</td>\n",
              "      <td>Convertible</td>\n",
              "      <td>Coupe</td>\n",
              "      <td>Coupe</td>\n",
              "      <td>Convertible</td>\n",
              "    </tr>\n",
              "    <tr>\n",
              "      <th>highway MPG</th>\n",
              "      <td>26</td>\n",
              "      <td>28</td>\n",
              "      <td>28</td>\n",
              "      <td>28</td>\n",
              "      <td>28</td>\n",
              "    </tr>\n",
              "    <tr>\n",
              "      <th>city mpg</th>\n",
              "      <td>19</td>\n",
              "      <td>19</td>\n",
              "      <td>20</td>\n",
              "      <td>18</td>\n",
              "      <td>18</td>\n",
              "    </tr>\n",
              "    <tr>\n",
              "      <th>Popularity</th>\n",
              "      <td>3916</td>\n",
              "      <td>3916</td>\n",
              "      <td>3916</td>\n",
              "      <td>3916</td>\n",
              "      <td>3916</td>\n",
              "    </tr>\n",
              "    <tr>\n",
              "      <th>MSRP</th>\n",
              "      <td>46135</td>\n",
              "      <td>40650</td>\n",
              "      <td>36350</td>\n",
              "      <td>29450</td>\n",
              "      <td>34500</td>\n",
              "    </tr>\n",
              "  </tbody>\n",
              "</table>\n",
              "</div>"
            ],
            "text/plain": [
              "                                                       0  ...                            4\n",
              "Make                                                 BMW  ...                          BMW\n",
              "Model                                         1 Series M  ...                     1 Series\n",
              "Year                                                2011  ...                         2011\n",
              "Engine Fuel Type             premium unleaded (required)  ...  premium unleaded (required)\n",
              "Engine HP                                            335  ...                          230\n",
              "Engine Cylinders                                       6  ...                            6\n",
              "Transmission Type                                 MANUAL  ...                       MANUAL\n",
              "Driven_Wheels                           rear wheel drive  ...             rear wheel drive\n",
              "Number of Doors                                        2  ...                            2\n",
              "Market Category    Factory Tuner,Luxury,High-Performance  ...                       Luxury\n",
              "Vehicle Size                                     Compact  ...                      Compact\n",
              "Vehicle Style                                      Coupe  ...                  Convertible\n",
              "highway MPG                                           26  ...                           28\n",
              "city mpg                                              19  ...                           18\n",
              "Popularity                                          3916  ...                         3916\n",
              "MSRP                                               46135  ...                        34500\n",
              "\n",
              "[16 rows x 5 columns]"
            ]
          },
          "metadata": {
            "tags": []
          },
          "execution_count": 3
        }
      ]
    },
    {
      "cell_type": "code",
      "metadata": {
        "id": "ey9ZzI-aLYeW",
        "colab_type": "code",
        "colab": {
          "base_uri": "https://localhost:8080/",
          "height": 645
        },
        "outputId": "1042687e-7ca7-4fdb-f517-d3b99fc020a5"
      },
      "source": [
        "car.tail().transpose()"
      ],
      "execution_count": null,
      "outputs": [
        {
          "output_type": "execute_result",
          "data": {
            "text/html": [
              "<div>\n",
              "<style scoped>\n",
              "    .dataframe tbody tr th:only-of-type {\n",
              "        vertical-align: middle;\n",
              "    }\n",
              "\n",
              "    .dataframe tbody tr th {\n",
              "        vertical-align: top;\n",
              "    }\n",
              "\n",
              "    .dataframe thead th {\n",
              "        text-align: right;\n",
              "    }\n",
              "</style>\n",
              "<table border=\"1\" class=\"dataframe\">\n",
              "  <thead>\n",
              "    <tr style=\"text-align: right;\">\n",
              "      <th></th>\n",
              "      <th>11909</th>\n",
              "      <th>11910</th>\n",
              "      <th>11911</th>\n",
              "      <th>11912</th>\n",
              "      <th>11913</th>\n",
              "    </tr>\n",
              "  </thead>\n",
              "  <tbody>\n",
              "    <tr>\n",
              "      <th>Make</th>\n",
              "      <td>Acura</td>\n",
              "      <td>Acura</td>\n",
              "      <td>Acura</td>\n",
              "      <td>Acura</td>\n",
              "      <td>Lincoln</td>\n",
              "    </tr>\n",
              "    <tr>\n",
              "      <th>Model</th>\n",
              "      <td>ZDX</td>\n",
              "      <td>ZDX</td>\n",
              "      <td>ZDX</td>\n",
              "      <td>ZDX</td>\n",
              "      <td>Zephyr</td>\n",
              "    </tr>\n",
              "    <tr>\n",
              "      <th>Year</th>\n",
              "      <td>2012</td>\n",
              "      <td>2012</td>\n",
              "      <td>2012</td>\n",
              "      <td>2013</td>\n",
              "      <td>2006</td>\n",
              "    </tr>\n",
              "    <tr>\n",
              "      <th>Engine Fuel Type</th>\n",
              "      <td>premium unleaded (required)</td>\n",
              "      <td>premium unleaded (required)</td>\n",
              "      <td>premium unleaded (required)</td>\n",
              "      <td>premium unleaded (recommended)</td>\n",
              "      <td>regular unleaded</td>\n",
              "    </tr>\n",
              "    <tr>\n",
              "      <th>Engine HP</th>\n",
              "      <td>300</td>\n",
              "      <td>300</td>\n",
              "      <td>300</td>\n",
              "      <td>300</td>\n",
              "      <td>221</td>\n",
              "    </tr>\n",
              "    <tr>\n",
              "      <th>Engine Cylinders</th>\n",
              "      <td>6</td>\n",
              "      <td>6</td>\n",
              "      <td>6</td>\n",
              "      <td>6</td>\n",
              "      <td>6</td>\n",
              "    </tr>\n",
              "    <tr>\n",
              "      <th>Transmission Type</th>\n",
              "      <td>AUTOMATIC</td>\n",
              "      <td>AUTOMATIC</td>\n",
              "      <td>AUTOMATIC</td>\n",
              "      <td>AUTOMATIC</td>\n",
              "      <td>AUTOMATIC</td>\n",
              "    </tr>\n",
              "    <tr>\n",
              "      <th>Driven_Wheels</th>\n",
              "      <td>all wheel drive</td>\n",
              "      <td>all wheel drive</td>\n",
              "      <td>all wheel drive</td>\n",
              "      <td>all wheel drive</td>\n",
              "      <td>front wheel drive</td>\n",
              "    </tr>\n",
              "    <tr>\n",
              "      <th>Number of Doors</th>\n",
              "      <td>4</td>\n",
              "      <td>4</td>\n",
              "      <td>4</td>\n",
              "      <td>4</td>\n",
              "      <td>4</td>\n",
              "    </tr>\n",
              "    <tr>\n",
              "      <th>Market Category</th>\n",
              "      <td>Crossover,Hatchback,Luxury</td>\n",
              "      <td>Crossover,Hatchback,Luxury</td>\n",
              "      <td>Crossover,Hatchback,Luxury</td>\n",
              "      <td>Crossover,Hatchback,Luxury</td>\n",
              "      <td>Luxury</td>\n",
              "    </tr>\n",
              "    <tr>\n",
              "      <th>Vehicle Size</th>\n",
              "      <td>Midsize</td>\n",
              "      <td>Midsize</td>\n",
              "      <td>Midsize</td>\n",
              "      <td>Midsize</td>\n",
              "      <td>Midsize</td>\n",
              "    </tr>\n",
              "    <tr>\n",
              "      <th>Vehicle Style</th>\n",
              "      <td>4dr Hatchback</td>\n",
              "      <td>4dr Hatchback</td>\n",
              "      <td>4dr Hatchback</td>\n",
              "      <td>4dr Hatchback</td>\n",
              "      <td>Sedan</td>\n",
              "    </tr>\n",
              "    <tr>\n",
              "      <th>highway MPG</th>\n",
              "      <td>23</td>\n",
              "      <td>23</td>\n",
              "      <td>23</td>\n",
              "      <td>23</td>\n",
              "      <td>26</td>\n",
              "    </tr>\n",
              "    <tr>\n",
              "      <th>city mpg</th>\n",
              "      <td>16</td>\n",
              "      <td>16</td>\n",
              "      <td>16</td>\n",
              "      <td>16</td>\n",
              "      <td>17</td>\n",
              "    </tr>\n",
              "    <tr>\n",
              "      <th>Popularity</th>\n",
              "      <td>204</td>\n",
              "      <td>204</td>\n",
              "      <td>204</td>\n",
              "      <td>204</td>\n",
              "      <td>61</td>\n",
              "    </tr>\n",
              "    <tr>\n",
              "      <th>MSRP</th>\n",
              "      <td>46120</td>\n",
              "      <td>56670</td>\n",
              "      <td>50620</td>\n",
              "      <td>50920</td>\n",
              "      <td>28995</td>\n",
              "    </tr>\n",
              "  </tbody>\n",
              "</table>\n",
              "</div>"
            ],
            "text/plain": [
              "                                         11909  ...              11913\n",
              "Make                                     Acura  ...            Lincoln\n",
              "Model                                      ZDX  ...             Zephyr\n",
              "Year                                      2012  ...               2006\n",
              "Engine Fuel Type   premium unleaded (required)  ...   regular unleaded\n",
              "Engine HP                                  300  ...                221\n",
              "Engine Cylinders                             6  ...                  6\n",
              "Transmission Type                    AUTOMATIC  ...          AUTOMATIC\n",
              "Driven_Wheels                  all wheel drive  ...  front wheel drive\n",
              "Number of Doors                              4  ...                  4\n",
              "Market Category     Crossover,Hatchback,Luxury  ...             Luxury\n",
              "Vehicle Size                           Midsize  ...            Midsize\n",
              "Vehicle Style                    4dr Hatchback  ...              Sedan\n",
              "highway MPG                                 23  ...                 26\n",
              "city mpg                                    16  ...                 17\n",
              "Popularity                                 204  ...                 61\n",
              "MSRP                                     46120  ...              28995\n",
              "\n",
              "[16 rows x 5 columns]"
            ]
          },
          "metadata": {
            "tags": []
          },
          "execution_count": 6
        }
      ]
    },
    {
      "cell_type": "markdown",
      "metadata": {
        "id": "0fguNEvwGSZD",
        "colab_type": "text"
      },
      "source": [
        "#Step 1.3 :- Displaying some important information about the dataset"
      ]
    },
    {
      "cell_type": "markdown",
      "metadata": {
        "id": "acrWxR4wFLQ1",
        "colab_type": "text"
      },
      "source": [
        "SHAPE OF DATAFRAME"
      ]
    },
    {
      "cell_type": "markdown",
      "metadata": {
        "id": "0AuQ5tAPFVVB",
        "colab_type": "text"
      },
      "source": [
        "This data set has 11914 instances and 16 features also called as rows and columns. The instances here represent different car brands such as BMW, Mercedes, Audi, and more, features represent Make, Model, MSRP, MPG-City, MPG-Highway,etc."
      ]
    },
    {
      "cell_type": "code",
      "metadata": {
        "id": "VsPph52RFEif",
        "colab_type": "code",
        "colab": {
          "base_uri": "https://localhost:8080/",
          "height": 33
        },
        "outputId": "e717ff43-4782-46a0-f865-5c056e39762d"
      },
      "source": [
        "#checking Shape\n",
        "car.shape"
      ],
      "execution_count": null,
      "outputs": [
        {
          "output_type": "execute_result",
          "data": {
            "text/plain": [
              "(11914, 16)"
            ]
          },
          "metadata": {
            "tags": []
          },
          "execution_count": 7
        }
      ]
    },
    {
      "cell_type": "markdown",
      "metadata": {
        "id": "5HINu8c5lw5Y",
        "colab_type": "text"
      },
      "source": [
        "SUMMARY OF DATAFRAME"
      ]
    },
    {
      "cell_type": "markdown",
      "metadata": {
        "id": "LlmxWUPfF1J-",
        "colab_type": "text"
      },
      "source": [
        "The info method prints a summary of the data in the data frame"
      ]
    },
    {
      "cell_type": "code",
      "metadata": {
        "id": "dnNuuutrGHy0",
        "colab_type": "code",
        "colab": {
          "base_uri": "https://localhost:8080/",
          "height": 251
        },
        "outputId": "6bd68a9f-a5d0-4fa1-e780-a731e455303f"
      },
      "source": [
        "car.info"
      ],
      "execution_count": null,
      "outputs": [
        {
          "output_type": "execute_result",
          "data": {
            "text/plain": [
              "<bound method DataFrame.info of           Make       Model  Year  ... city mpg  Popularity   MSRP\n",
              "0          BMW  1 Series M  2011  ...       19        3916  46135\n",
              "1          BMW    1 Series  2011  ...       19        3916  40650\n",
              "2          BMW    1 Series  2011  ...       20        3916  36350\n",
              "3          BMW    1 Series  2011  ...       18        3916  29450\n",
              "4          BMW    1 Series  2011  ...       18        3916  34500\n",
              "...        ...         ...   ...  ...      ...         ...    ...\n",
              "11909    Acura         ZDX  2012  ...       16         204  46120\n",
              "11910    Acura         ZDX  2012  ...       16         204  56670\n",
              "11911    Acura         ZDX  2012  ...       16         204  50620\n",
              "11912    Acura         ZDX  2013  ...       16         204  50920\n",
              "11913  Lincoln      Zephyr  2006  ...       17          61  28995\n",
              "\n",
              "[11914 rows x 16 columns]>"
            ]
          },
          "metadata": {
            "tags": []
          },
          "execution_count": 8
        }
      ]
    },
    {
      "cell_type": "markdown",
      "metadata": {
        "id": "3VnWP9o0Grwm",
        "colab_type": "text"
      },
      "source": [
        "SUMMARY STATISTICS OF DATAFRAME"
      ]
    },
    {
      "cell_type": "markdown",
      "metadata": {
        "id": "WuI-8xYQJ-92",
        "colab_type": "text"
      },
      "source": [
        "Next step is to perform a number summary for the numeric data.Summary statistics is displayed using describe(). The number summary includes minimum, lower quartile, median, upper quartile, and the maximum values all these values can be obtained by using the describe method."
      ]
    },
    {
      "cell_type": "code",
      "metadata": {
        "id": "5Xo9dH_cGNe6",
        "colab_type": "code",
        "colab": {
          "base_uri": "https://localhost:8080/",
          "height": 286
        },
        "outputId": "9f182aa8-deaf-46cc-fd31-bb98c7e60763"
      },
      "source": [
        "car.describe()"
      ],
      "execution_count": null,
      "outputs": [
        {
          "output_type": "execute_result",
          "data": {
            "text/html": [
              "<div>\n",
              "<style scoped>\n",
              "    .dataframe tbody tr th:only-of-type {\n",
              "        vertical-align: middle;\n",
              "    }\n",
              "\n",
              "    .dataframe tbody tr th {\n",
              "        vertical-align: top;\n",
              "    }\n",
              "\n",
              "    .dataframe thead th {\n",
              "        text-align: right;\n",
              "    }\n",
              "</style>\n",
              "<table border=\"1\" class=\"dataframe\">\n",
              "  <thead>\n",
              "    <tr style=\"text-align: right;\">\n",
              "      <th></th>\n",
              "      <th>Year</th>\n",
              "      <th>Engine HP</th>\n",
              "      <th>Engine Cylinders</th>\n",
              "      <th>Number of Doors</th>\n",
              "      <th>highway MPG</th>\n",
              "      <th>city mpg</th>\n",
              "      <th>Popularity</th>\n",
              "      <th>MSRP</th>\n",
              "    </tr>\n",
              "  </thead>\n",
              "  <tbody>\n",
              "    <tr>\n",
              "      <th>count</th>\n",
              "      <td>11914.000000</td>\n",
              "      <td>11845.00000</td>\n",
              "      <td>11884.000000</td>\n",
              "      <td>11908.000000</td>\n",
              "      <td>11914.000000</td>\n",
              "      <td>11914.000000</td>\n",
              "      <td>11914.000000</td>\n",
              "      <td>1.191400e+04</td>\n",
              "    </tr>\n",
              "    <tr>\n",
              "      <th>mean</th>\n",
              "      <td>2010.384338</td>\n",
              "      <td>249.38607</td>\n",
              "      <td>5.628829</td>\n",
              "      <td>3.436093</td>\n",
              "      <td>26.637485</td>\n",
              "      <td>19.733255</td>\n",
              "      <td>1554.911197</td>\n",
              "      <td>4.059474e+04</td>\n",
              "    </tr>\n",
              "    <tr>\n",
              "      <th>std</th>\n",
              "      <td>7.579740</td>\n",
              "      <td>109.19187</td>\n",
              "      <td>1.780559</td>\n",
              "      <td>0.881315</td>\n",
              "      <td>8.863001</td>\n",
              "      <td>8.987798</td>\n",
              "      <td>1441.855347</td>\n",
              "      <td>6.010910e+04</td>\n",
              "    </tr>\n",
              "    <tr>\n",
              "      <th>min</th>\n",
              "      <td>1990.000000</td>\n",
              "      <td>55.00000</td>\n",
              "      <td>0.000000</td>\n",
              "      <td>2.000000</td>\n",
              "      <td>12.000000</td>\n",
              "      <td>7.000000</td>\n",
              "      <td>2.000000</td>\n",
              "      <td>2.000000e+03</td>\n",
              "    </tr>\n",
              "    <tr>\n",
              "      <th>25%</th>\n",
              "      <td>2007.000000</td>\n",
              "      <td>170.00000</td>\n",
              "      <td>4.000000</td>\n",
              "      <td>2.000000</td>\n",
              "      <td>22.000000</td>\n",
              "      <td>16.000000</td>\n",
              "      <td>549.000000</td>\n",
              "      <td>2.100000e+04</td>\n",
              "    </tr>\n",
              "    <tr>\n",
              "      <th>50%</th>\n",
              "      <td>2015.000000</td>\n",
              "      <td>227.00000</td>\n",
              "      <td>6.000000</td>\n",
              "      <td>4.000000</td>\n",
              "      <td>26.000000</td>\n",
              "      <td>18.000000</td>\n",
              "      <td>1385.000000</td>\n",
              "      <td>2.999500e+04</td>\n",
              "    </tr>\n",
              "    <tr>\n",
              "      <th>75%</th>\n",
              "      <td>2016.000000</td>\n",
              "      <td>300.00000</td>\n",
              "      <td>6.000000</td>\n",
              "      <td>4.000000</td>\n",
              "      <td>30.000000</td>\n",
              "      <td>22.000000</td>\n",
              "      <td>2009.000000</td>\n",
              "      <td>4.223125e+04</td>\n",
              "    </tr>\n",
              "    <tr>\n",
              "      <th>max</th>\n",
              "      <td>2017.000000</td>\n",
              "      <td>1001.00000</td>\n",
              "      <td>16.000000</td>\n",
              "      <td>4.000000</td>\n",
              "      <td>354.000000</td>\n",
              "      <td>137.000000</td>\n",
              "      <td>5657.000000</td>\n",
              "      <td>2.065902e+06</td>\n",
              "    </tr>\n",
              "  </tbody>\n",
              "</table>\n",
              "</div>"
            ],
            "text/plain": [
              "               Year    Engine HP  ...    Popularity          MSRP\n",
              "count  11914.000000  11845.00000  ...  11914.000000  1.191400e+04\n",
              "mean    2010.384338    249.38607  ...   1554.911197  4.059474e+04\n",
              "std        7.579740    109.19187  ...   1441.855347  6.010910e+04\n",
              "min     1990.000000     55.00000  ...      2.000000  2.000000e+03\n",
              "25%     2007.000000    170.00000  ...    549.000000  2.100000e+04\n",
              "50%     2015.000000    227.00000  ...   1385.000000  2.999500e+04\n",
              "75%     2016.000000    300.00000  ...   2009.000000  4.223125e+04\n",
              "max     2017.000000   1001.00000  ...   5657.000000  2.065902e+06\n",
              "\n",
              "[8 rows x 8 columns]"
            ]
          },
          "metadata": {
            "tags": []
          },
          "execution_count": 21
        }
      ]
    },
    {
      "cell_type": "markdown",
      "metadata": {
        "id": "vdvH-8zWmQFN",
        "colab_type": "text"
      },
      "source": [
        "COLUMNS OF DATAFRAME"
      ]
    },
    {
      "cell_type": "code",
      "metadata": {
        "id": "ebOiWO3DGkDt",
        "colab_type": "code",
        "colab": {
          "base_uri": "https://localhost:8080/",
          "height": 100
        },
        "outputId": "4a618557-8b07-49a1-b4d8-1aa33d7dd44c"
      },
      "source": [
        "print(car.columns)"
      ],
      "execution_count": null,
      "outputs": [
        {
          "output_type": "stream",
          "text": [
            "Index(['Make', 'Model', 'Year', 'Engine Fuel Type', 'Engine HP',\n",
            "       'Engine Cylinders', 'Transmission Type', 'Driven_Wheels',\n",
            "       'Number of Doors', 'Market Category', 'Vehicle Size', 'Vehicle Style',\n",
            "       'highway MPG', 'city mpg', 'Popularity', 'MSRP'],\n",
            "      dtype='object')\n"
          ],
          "name": "stdout"
        }
      ]
    },
    {
      "cell_type": "markdown",
      "metadata": {
        "id": "atRAArxolVMF",
        "colab_type": "text"
      },
      "source": [
        "DATATYPES OF DATAFRAME"
      ]
    },
    {
      "cell_type": "markdown",
      "metadata": {
        "id": "GIJ5B-7MGNfF",
        "colab_type": "text"
      },
      "source": [
        "To identify the data types, I use the following method. It prints the data in the data frame along with its data types"
      ]
    },
    {
      "cell_type": "code",
      "metadata": {
        "id": "KP2jbHRXHgzg",
        "colab_type": "code",
        "colab": {
          "base_uri": "https://localhost:8080/",
          "height": 301
        },
        "outputId": "ca9d0972-6dae-4c52-a277-ca51301137de"
      },
      "source": [
        "#checking Datatypes\n",
        "car.dtypes"
      ],
      "execution_count": null,
      "outputs": [
        {
          "output_type": "execute_result",
          "data": {
            "text/plain": [
              "Make                  object\n",
              "Model                 object\n",
              "Year                   int64\n",
              "Engine Fuel Type      object\n",
              "Engine HP            float64\n",
              "Engine Cylinders     float64\n",
              "Transmission Type     object\n",
              "Driven_Wheels         object\n",
              "Number of Doors      float64\n",
              "Market Category       object\n",
              "Vehicle Size          object\n",
              "Vehicle Style         object\n",
              "highway MPG            int64\n",
              "city mpg               int64\n",
              "Popularity             int64\n",
              "MSRP                   int64\n",
              "dtype: object"
            ]
          },
          "metadata": {
            "tags": []
          },
          "execution_count": 11
        }
      ]
    },
    {
      "cell_type": "markdown",
      "metadata": {
        "id": "V08tSIz2lSMZ",
        "colab_type": "text"
      },
      "source": [
        "NULL VALUES OF DATAFRAME"
      ]
    },
    {
      "cell_type": "markdown",
      "metadata": {
        "id": "-eVA8PpTGhYn",
        "colab_type": "text"
      },
      "source": [
        "Many times there might be a lot of missing values in the dataset.This can be found by using the is_null( ) method which returns the null or missing values in the data frame."
      ]
    },
    {
      "cell_type": "code",
      "metadata": {
        "id": "Kh-hIrXSIN0-",
        "colab_type": "code",
        "colab": {
          "base_uri": "https://localhost:8080/",
          "height": 301
        },
        "outputId": "68d0d9e5-f094-4e35-e815-aac343de946a"
      },
      "source": [
        "#checking Null values\n",
        "car.isnull().sum()"
      ],
      "execution_count": null,
      "outputs": [
        {
          "output_type": "execute_result",
          "data": {
            "text/plain": [
              "Make                    0\n",
              "Model                   0\n",
              "Year                    0\n",
              "Engine Fuel Type        3\n",
              "Engine HP              69\n",
              "Engine Cylinders       30\n",
              "Transmission Type       0\n",
              "Driven_Wheels           0\n",
              "Number of Doors         6\n",
              "Market Category      3742\n",
              "Vehicle Size            0\n",
              "Vehicle Style           0\n",
              "highway MPG             0\n",
              "city mpg                0\n",
              "Popularity              0\n",
              "MSRP                    0\n",
              "dtype: int64"
            ]
          },
          "metadata": {
            "tags": []
          },
          "execution_count": 12
        }
      ]
    },
    {
      "cell_type": "markdown",
      "metadata": {
        "id": "SoWaTRW9lldr",
        "colab_type": "text"
      },
      "source": [
        "NUMBER OF CAR AND ITS MAKE"
      ]
    },
    {
      "cell_type": "code",
      "metadata": {
        "id": "JJ_vEWL-K3Es",
        "colab_type": "code",
        "colab": {
          "base_uri": "https://localhost:8080/",
          "height": 836
        },
        "outputId": "c81d629e-1132-4cab-c566-56866b628ef3"
      },
      "source": [
        "#No of cars based on their make \n",
        "car['Make'].value_counts()"
      ],
      "execution_count": null,
      "outputs": [
        {
          "output_type": "execute_result",
          "data": {
            "text/plain": [
              "Chevrolet        1123\n",
              "Ford              881\n",
              "Volkswagen        809\n",
              "Toyota            746\n",
              "Dodge             626\n",
              "Nissan            558\n",
              "GMC               515\n",
              "Honda             449\n",
              "Mazda             423\n",
              "Cadillac          397\n",
              "Mercedes-Benz     353\n",
              "Suzuki            351\n",
              "BMW               334\n",
              "Infiniti          330\n",
              "Audi              328\n",
              "Hyundai           303\n",
              "Volvo             281\n",
              "Subaru            256\n",
              "Acura             252\n",
              "Kia               231\n",
              "Mitsubishi        213\n",
              "Lexus             202\n",
              "Buick             196\n",
              "Chrysler          187\n",
              "Pontiac           186\n",
              "Lincoln           164\n",
              "Oldsmobile        150\n",
              "Land Rover        143\n",
              "Porsche           136\n",
              "Saab              111\n",
              "Aston Martin       93\n",
              "Plymouth           82\n",
              "Bentley            74\n",
              "Ferrari            69\n",
              "FIAT               62\n",
              "Scion              60\n",
              "Maserati           58\n",
              "Lamborghini        52\n",
              "Rolls-Royce        31\n",
              "Lotus              29\n",
              "Tesla              18\n",
              "HUMMER             17\n",
              "Maybach            16\n",
              "McLaren             5\n",
              "Alfa Romeo          5\n",
              "Genesis             3\n",
              "Spyker              3\n",
              "Bugatti             3\n",
              "Name: Make, dtype: int64"
            ]
          },
          "metadata": {
            "tags": []
          },
          "execution_count": 13
        }
      ]
    },
    {
      "cell_type": "code",
      "metadata": {
        "id": "EHIqoMuMPxR1",
        "colab_type": "code",
        "colab": {
          "base_uri": "https://localhost:8080/",
          "height": 822
        },
        "outputId": "3fcea914-5d5e-41e1-eca7-51bf36a76d69"
      },
      "source": [
        "#2-D Scatter plot with colour for each make.\n",
        "import matplotlib.pyplot as plt\n",
        "import seaborn as sns\n",
        "sns.set_style(\"whitegrid\"); \n",
        "sns.FacetGrid(car,hue=\"Make\",size=4) \\\n",
        "    .map(plt.scatter,\"Popularity\",\"MSRP\") \\\n",
        "    .add_legend()\n",
        "plt.show()"
      ],
      "execution_count": null,
      "outputs": [
        {
          "output_type": "stream",
          "text": [
            "/usr/local/lib/python3.6/dist-packages/seaborn/axisgrid.py:243: UserWarning: The `size` parameter has been renamed to `height`; please update your code.\n",
            "  warnings.warn(msg, UserWarning)\n"
          ],
          "name": "stderr"
        },
        {
          "output_type": "display_data",
          "data": {
            "image/png": "[encoded data removed]",
            "text/plain": [
              "<Figure size 399.75x288 with 1 Axes>"
            ]
          },
          "metadata": {
            "tags": []
          }
        }
      ]
    },
    {
      "cell_type": "markdown",
      "metadata": {
        "id": "bU91ZDnLTkyY",
        "colab_type": "text"
      },
      "source": [
        "#Step 2 :- Dropping the columns of less relevance "
      ]
    },
    {
      "cell_type": "markdown",
      "metadata": {
        "id": "nQMgYMXRSVCc",
        "colab_type": "text"
      },
      "source": [
        "Some features such as Number of doors, Model, Market Category and Engine fuel type will be removed from this dataset. Because these features do not contribute to the prediction of price.\n",
        "\n",
        "As of now, I will remove the model, it is not needed in this context, it’s the brand which is important not the model of the car.\n",
        "\n",
        "Also Engine Fuel type and no of doors do not affect the price prediction."
      ]
    },
    {
      "cell_type": "code",
      "metadata": {
        "id": "a8sIJujQk0hE",
        "colab_type": "code",
        "colab": {
          "base_uri": "https://localhost:8080/",
          "height": 455
        },
        "outputId": "5b0490cc-3c36-4685-e579-5819e1153b31"
      },
      "source": [
        "#Dropping Irrelevant columns\n",
        "car=car.drop(['Market Category','Number of Doors','Engine Fuel Type','Model'],axis=1)\n",
        "car.head(10).transpose()"
      ],
      "execution_count": null,
      "outputs": [
        {
          "output_type": "execute_result",
          "data": {
            "text/html": [
              "<div>\n",
              "<style scoped>\n",
              "    .dataframe tbody tr th:only-of-type {\n",
              "        vertical-align: middle;\n",
              "    }\n",
              "\n",
              "    .dataframe tbody tr th {\n",
              "        vertical-align: top;\n",
              "    }\n",
              "\n",
              "    .dataframe thead th {\n",
              "        text-align: right;\n",
              "    }\n",
              "</style>\n",
              "<table border=\"1\" class=\"dataframe\">\n",
              "  <thead>\n",
              "    <tr style=\"text-align: right;\">\n",
              "      <th></th>\n",
              "      <th>0</th>\n",
              "      <th>1</th>\n",
              "      <th>2</th>\n",
              "      <th>3</th>\n",
              "      <th>4</th>\n",
              "      <th>5</th>\n",
              "      <th>6</th>\n",
              "      <th>7</th>\n",
              "      <th>8</th>\n",
              "      <th>9</th>\n",
              "    </tr>\n",
              "  </thead>\n",
              "  <tbody>\n",
              "    <tr>\n",
              "      <th>Make</th>\n",
              "      <td>BMW</td>\n",
              "      <td>BMW</td>\n",
              "      <td>BMW</td>\n",
              "      <td>BMW</td>\n",
              "      <td>BMW</td>\n",
              "      <td>BMW</td>\n",
              "      <td>BMW</td>\n",
              "      <td>BMW</td>\n",
              "      <td>BMW</td>\n",
              "      <td>BMW</td>\n",
              "    </tr>\n",
              "    <tr>\n",
              "      <th>Year</th>\n",
              "      <td>2011</td>\n",
              "      <td>2011</td>\n",
              "      <td>2011</td>\n",
              "      <td>2011</td>\n",
              "      <td>2011</td>\n",
              "      <td>2012</td>\n",
              "      <td>2012</td>\n",
              "      <td>2012</td>\n",
              "      <td>2012</td>\n",
              "      <td>2013</td>\n",
              "    </tr>\n",
              "    <tr>\n",
              "      <th>Engine HP</th>\n",
              "      <td>335</td>\n",
              "      <td>300</td>\n",
              "      <td>300</td>\n",
              "      <td>230</td>\n",
              "      <td>230</td>\n",
              "      <td>230</td>\n",
              "      <td>300</td>\n",
              "      <td>300</td>\n",
              "      <td>230</td>\n",
              "      <td>230</td>\n",
              "    </tr>\n",
              "    <tr>\n",
              "      <th>Engine Cylinders</th>\n",
              "      <td>6</td>\n",
              "      <td>6</td>\n",
              "      <td>6</td>\n",
              "      <td>6</td>\n",
              "      <td>6</td>\n",
              "      <td>6</td>\n",
              "      <td>6</td>\n",
              "      <td>6</td>\n",
              "      <td>6</td>\n",
              "      <td>6</td>\n",
              "    </tr>\n",
              "    <tr>\n",
              "      <th>Transmission Type</th>\n",
              "      <td>MANUAL</td>\n",
              "      <td>MANUAL</td>\n",
              "      <td>MANUAL</td>\n",
              "      <td>MANUAL</td>\n",
              "      <td>MANUAL</td>\n",
              "      <td>MANUAL</td>\n",
              "      <td>MANUAL</td>\n",
              "      <td>MANUAL</td>\n",
              "      <td>MANUAL</td>\n",
              "      <td>MANUAL</td>\n",
              "    </tr>\n",
              "    <tr>\n",
              "      <th>Driven_Wheels</th>\n",
              "      <td>rear wheel drive</td>\n",
              "      <td>rear wheel drive</td>\n",
              "      <td>rear wheel drive</td>\n",
              "      <td>rear wheel drive</td>\n",
              "      <td>rear wheel drive</td>\n",
              "      <td>rear wheel drive</td>\n",
              "      <td>rear wheel drive</td>\n",
              "      <td>rear wheel drive</td>\n",
              "      <td>rear wheel drive</td>\n",
              "      <td>rear wheel drive</td>\n",
              "    </tr>\n",
              "    <tr>\n",
              "      <th>Vehicle Size</th>\n",
              "      <td>Compact</td>\n",
              "      <td>Compact</td>\n",
              "      <td>Compact</td>\n",
              "      <td>Compact</td>\n",
              "      <td>Compact</td>\n",
              "      <td>Compact</td>\n",
              "      <td>Compact</td>\n",
              "      <td>Compact</td>\n",
              "      <td>Compact</td>\n",
              "      <td>Compact</td>\n",
              "    </tr>\n",
              "    <tr>\n",
              "      <th>Vehicle Style</th>\n",
              "      <td>Coupe</td>\n",
              "      <td>Convertible</td>\n",
              "      <td>Coupe</td>\n",
              "      <td>Coupe</td>\n",
              "      <td>Convertible</td>\n",
              "      <td>Coupe</td>\n",
              "      <td>Convertible</td>\n",
              "      <td>Coupe</td>\n",
              "      <td>Convertible</td>\n",
              "      <td>Convertible</td>\n",
              "    </tr>\n",
              "    <tr>\n",
              "      <th>highway MPG</th>\n",
              "      <td>26</td>\n",
              "      <td>28</td>\n",
              "      <td>28</td>\n",
              "      <td>28</td>\n",
              "      <td>28</td>\n",
              "      <td>28</td>\n",
              "      <td>26</td>\n",
              "      <td>28</td>\n",
              "      <td>28</td>\n",
              "      <td>27</td>\n",
              "    </tr>\n",
              "    <tr>\n",
              "      <th>city mpg</th>\n",
              "      <td>19</td>\n",
              "      <td>19</td>\n",
              "      <td>20</td>\n",
              "      <td>18</td>\n",
              "      <td>18</td>\n",
              "      <td>18</td>\n",
              "      <td>17</td>\n",
              "      <td>20</td>\n",
              "      <td>18</td>\n",
              "      <td>18</td>\n",
              "    </tr>\n",
              "    <tr>\n",
              "      <th>Popularity</th>\n",
              "      <td>3916</td>\n",
              "      <td>3916</td>\n",
              "      <td>3916</td>\n",
              "      <td>3916</td>\n",
              "      <td>3916</td>\n",
              "      <td>3916</td>\n",
              "      <td>3916</td>\n",
              "      <td>3916</td>\n",
              "      <td>3916</td>\n",
              "      <td>3916</td>\n",
              "    </tr>\n",
              "    <tr>\n",
              "      <th>MSRP</th>\n",
              "      <td>46135</td>\n",
              "      <td>40650</td>\n",
              "      <td>36350</td>\n",
              "      <td>29450</td>\n",
              "      <td>34500</td>\n",
              "      <td>31200</td>\n",
              "      <td>44100</td>\n",
              "      <td>39300</td>\n",
              "      <td>36900</td>\n",
              "      <td>37200</td>\n",
              "    </tr>\n",
              "  </tbody>\n",
              "</table>\n",
              "</div>"
            ],
            "text/plain": [
              "                                  0  ...                 9\n",
              "Make                            BMW  ...               BMW\n",
              "Year                           2011  ...              2013\n",
              "Engine HP                       335  ...               230\n",
              "Engine Cylinders                  6  ...                 6\n",
              "Transmission Type            MANUAL  ...            MANUAL\n",
              "Driven_Wheels      rear wheel drive  ...  rear wheel drive\n",
              "Vehicle Size                Compact  ...           Compact\n",
              "Vehicle Style                 Coupe  ...       Convertible\n",
              "highway MPG                      26  ...                27\n",
              "city mpg                         19  ...                18\n",
              "Popularity                     3916  ...              3916\n",
              "MSRP                          46135  ...             37200\n",
              "\n",
              "[12 rows x 10 columns]"
            ]
          },
          "metadata": {
            "tags": []
          },
          "execution_count": 3
        }
      ]
    },
    {
      "cell_type": "markdown",
      "metadata": {
        "id": "X7QAlPvmHwjm",
        "colab_type": "text"
      },
      "source": [
        "#Step 3 :- Renaming the columns"
      ]
    },
    {
      "cell_type": "markdown",
      "metadata": {
        "id": "ojkoPNNj14Il",
        "colab_type": "text"
      },
      "source": [
        "Renaming the columns of dataset into required names"
      ]
    },
    {
      "cell_type": "code",
      "metadata": {
        "id": "sC05XzRy_Lpf",
        "colab_type": "code",
        "colab": {
          "base_uri": "https://localhost:8080/",
          "height": 422
        },
        "outputId": "ceb42cf5-8612-4fa9-b93a-aafc4a8f873a"
      },
      "source": [
        "car.rename(columns = {'Engine HP':'HP','Engine Cylinders':'Cylinders', \n",
        "'Transmission Type':'Transmission','Driven_Wheels':'Drive Mode','highway MPG':'MPG-H', \n",
        "'city mpg':'MPG-C','MSRP':'Price'}, inplace=True)\n",
        "car.head(10).transpose()"
      ],
      "execution_count": null,
      "outputs": [
        {
          "output_type": "execute_result",
          "data": {
            "text/html": [
              "<div>\n",
              "<style scoped>\n",
              "    .dataframe tbody tr th:only-of-type {\n",
              "        vertical-align: middle;\n",
              "    }\n",
              "\n",
              "    .dataframe tbody tr th {\n",
              "        vertical-align: top;\n",
              "    }\n",
              "\n",
              "    .dataframe thead th {\n",
              "        text-align: right;\n",
              "    }\n",
              "</style>\n",
              "<table border=\"1\" class=\"dataframe\">\n",
              "  <thead>\n",
              "    <tr style=\"text-align: right;\">\n",
              "      <th></th>\n",
              "      <th>0</th>\n",
              "      <th>1</th>\n",
              "      <th>2</th>\n",
              "      <th>3</th>\n",
              "      <th>4</th>\n",
              "      <th>5</th>\n",
              "      <th>6</th>\n",
              "      <th>7</th>\n",
              "      <th>8</th>\n",
              "      <th>9</th>\n",
              "    </tr>\n",
              "  </thead>\n",
              "  <tbody>\n",
              "    <tr>\n",
              "      <th>Make</th>\n",
              "      <td>BMW</td>\n",
              "      <td>BMW</td>\n",
              "      <td>BMW</td>\n",
              "      <td>BMW</td>\n",
              "      <td>BMW</td>\n",
              "      <td>BMW</td>\n",
              "      <td>BMW</td>\n",
              "      <td>BMW</td>\n",
              "      <td>BMW</td>\n",
              "      <td>BMW</td>\n",
              "    </tr>\n",
              "    <tr>\n",
              "      <th>Year</th>\n",
              "      <td>2011</td>\n",
              "      <td>2011</td>\n",
              "      <td>2011</td>\n",
              "      <td>2011</td>\n",
              "      <td>2011</td>\n",
              "      <td>2012</td>\n",
              "      <td>2012</td>\n",
              "      <td>2012</td>\n",
              "      <td>2012</td>\n",
              "      <td>2013</td>\n",
              "    </tr>\n",
              "    <tr>\n",
              "      <th>HP</th>\n",
              "      <td>335</td>\n",
              "      <td>300</td>\n",
              "      <td>300</td>\n",
              "      <td>230</td>\n",
              "      <td>230</td>\n",
              "      <td>230</td>\n",
              "      <td>300</td>\n",
              "      <td>300</td>\n",
              "      <td>230</td>\n",
              "      <td>230</td>\n",
              "    </tr>\n",
              "    <tr>\n",
              "      <th>Cylinders</th>\n",
              "      <td>6</td>\n",
              "      <td>6</td>\n",
              "      <td>6</td>\n",
              "      <td>6</td>\n",
              "      <td>6</td>\n",
              "      <td>6</td>\n",
              "      <td>6</td>\n",
              "      <td>6</td>\n",
              "      <td>6</td>\n",
              "      <td>6</td>\n",
              "    </tr>\n",
              "    <tr>\n",
              "      <th>Transmission</th>\n",
              "      <td>MANUAL</td>\n",
              "      <td>MANUAL</td>\n",
              "      <td>MANUAL</td>\n",
              "      <td>MANUAL</td>\n",
              "      <td>MANUAL</td>\n",
              "      <td>MANUAL</td>\n",
              "      <td>MANUAL</td>\n",
              "      <td>MANUAL</td>\n",
              "      <td>MANUAL</td>\n",
              "      <td>MANUAL</td>\n",
              "    </tr>\n",
              "    <tr>\n",
              "      <th>Drive Mode</th>\n",
              "      <td>rear wheel drive</td>\n",
              "      <td>rear wheel drive</td>\n",
              "      <td>rear wheel drive</td>\n",
              "      <td>rear wheel drive</td>\n",
              "      <td>rear wheel drive</td>\n",
              "      <td>rear wheel drive</td>\n",
              "      <td>rear wheel drive</td>\n",
              "      <td>rear wheel drive</td>\n",
              "      <td>rear wheel drive</td>\n",
              "      <td>rear wheel drive</td>\n",
              "    </tr>\n",
              "    <tr>\n",
              "      <th>Vehicle Size</th>\n",
              "      <td>Compact</td>\n",
              "      <td>Compact</td>\n",
              "      <td>Compact</td>\n",
              "      <td>Compact</td>\n",
              "      <td>Compact</td>\n",
              "      <td>Compact</td>\n",
              "      <td>Compact</td>\n",
              "      <td>Compact</td>\n",
              "      <td>Compact</td>\n",
              "      <td>Compact</td>\n",
              "    </tr>\n",
              "    <tr>\n",
              "      <th>Vehicle Style</th>\n",
              "      <td>Coupe</td>\n",
              "      <td>Convertible</td>\n",
              "      <td>Coupe</td>\n",
              "      <td>Coupe</td>\n",
              "      <td>Convertible</td>\n",
              "      <td>Coupe</td>\n",
              "      <td>Convertible</td>\n",
              "      <td>Coupe</td>\n",
              "      <td>Convertible</td>\n",
              "      <td>Convertible</td>\n",
              "    </tr>\n",
              "    <tr>\n",
              "      <th>MPG-H</th>\n",
              "      <td>26</td>\n",
              "      <td>28</td>\n",
              "      <td>28</td>\n",
              "      <td>28</td>\n",
              "      <td>28</td>\n",
              "      <td>28</td>\n",
              "      <td>26</td>\n",
              "      <td>28</td>\n",
              "      <td>28</td>\n",
              "      <td>27</td>\n",
              "    </tr>\n",
              "    <tr>\n",
              "      <th>MPG-C</th>\n",
              "      <td>19</td>\n",
              "      <td>19</td>\n",
              "      <td>20</td>\n",
              "      <td>18</td>\n",
              "      <td>18</td>\n",
              "      <td>18</td>\n",
              "      <td>17</td>\n",
              "      <td>20</td>\n",
              "      <td>18</td>\n",
              "      <td>18</td>\n",
              "    </tr>\n",
              "    <tr>\n",
              "      <th>Popularity</th>\n",
              "      <td>3916</td>\n",
              "      <td>3916</td>\n",
              "      <td>3916</td>\n",
              "      <td>3916</td>\n",
              "      <td>3916</td>\n",
              "      <td>3916</td>\n",
              "      <td>3916</td>\n",
              "      <td>3916</td>\n",
              "      <td>3916</td>\n",
              "      <td>3916</td>\n",
              "    </tr>\n",
              "    <tr>\n",
              "      <th>Price</th>\n",
              "      <td>46135</td>\n",
              "      <td>40650</td>\n",
              "      <td>36350</td>\n",
              "      <td>29450</td>\n",
              "      <td>34500</td>\n",
              "      <td>31200</td>\n",
              "      <td>44100</td>\n",
              "      <td>39300</td>\n",
              "      <td>36900</td>\n",
              "      <td>37200</td>\n",
              "    </tr>\n",
              "  </tbody>\n",
              "</table>\n",
              "</div>"
            ],
            "text/plain": [
              "                              0  ...                 9\n",
              "Make                        BMW  ...               BMW\n",
              "Year                       2011  ...              2013\n",
              "HP                          335  ...               230\n",
              "Cylinders                     6  ...                 6\n",
              "Transmission             MANUAL  ...            MANUAL\n",
              "Drive Mode     rear wheel drive  ...  rear wheel drive\n",
              "Vehicle Size            Compact  ...           Compact\n",
              "Vehicle Style             Coupe  ...       Convertible\n",
              "MPG-H                        26  ...                27\n",
              "MPG-C                        19  ...                18\n",
              "Popularity                 3916  ...              3916\n",
              "Price                     46135  ...             37200\n",
              "\n",
              "[12 rows x 10 columns]"
            ]
          },
          "metadata": {
            "tags": []
          },
          "execution_count": 5
        }
      ]
    },
    {
      "cell_type": "markdown",
      "metadata": {
        "colab_type": "text",
        "id": "xXy73siSKp_l"
      },
      "source": [
        "#Step 4.1 :- Checking for Missing values or Nulls and Removing Them"
      ]
    },
    {
      "cell_type": "markdown",
      "metadata": {
        "colab_type": "text",
        "id": "XSK7cLs5Kp_o"
      },
      "source": [
        "Many times there might be a lot of missing values in the dataset. This can be found by using the is_null( ) method which returns the null or missing values in the data frame. So rather than deleting those two entries, I filled those values with the mean. I think rather than deleting this is a good approach because every entry of data is vital. "
      ]
    },
    {
      "cell_type": "code",
      "metadata": {
        "colab_type": "code",
        "id": "PQbvyKQWKp_o",
        "colab": {
          "base_uri": "https://localhost:8080/",
          "height": 234
        },
        "outputId": "23d86f23-e590-4fb6-a838-567e864954dc"
      },
      "source": [
        "print(car.isnull().sum())"
      ],
      "execution_count": null,
      "outputs": [
        {
          "output_type": "stream",
          "text": [
            "Make              0\n",
            "Year              0\n",
            "HP               69\n",
            "Cylinders        30\n",
            "Transmission      0\n",
            "Drive Mode        0\n",
            "Vehicle Size      0\n",
            "Vehicle Style     0\n",
            "MPG-H             0\n",
            "MPG-C             0\n",
            "Popularity        0\n",
            "Price             0\n",
            "dtype: int64\n"
          ],
          "name": "stdout"
        }
      ]
    },
    {
      "cell_type": "code",
      "metadata": {
        "colab_type": "code",
        "id": "PkKVgnOpKp_u",
        "colab": {}
      },
      "source": [
        "#To fill null values here no null val\n",
        "car=car.fillna(method='ffill')"
      ],
      "execution_count": null,
      "outputs": []
    },
    {
      "cell_type": "code",
      "metadata": {
        "colab_type": "code",
        "id": "_b1vSQScKp_0",
        "colab": {
          "base_uri": "https://localhost:8080/",
          "height": 234
        },
        "outputId": "0c0feceb-27b6-49a6-9934-0d5c0e54b635"
      },
      "source": [
        "print(car.isnull().any())"
      ],
      "execution_count": null,
      "outputs": [
        {
          "output_type": "stream",
          "text": [
            "Make             False\n",
            "Year             False\n",
            "HP               False\n",
            "Cylinders        False\n",
            "Transmission     False\n",
            "Drive Mode       False\n",
            "Vehicle Size     False\n",
            "Vehicle Style    False\n",
            "MPG-H            False\n",
            "MPG-C            False\n",
            "Popularity       False\n",
            "Price            False\n",
            "dtype: bool\n"
          ],
          "name": "stdout"
        }
      ]
    },
    {
      "cell_type": "markdown",
      "metadata": {
        "colab_type": "text",
        "id": "8AQqb3UjKp_4"
      },
      "source": [
        "Hence Null values were Removed"
      ]
    },
    {
      "cell_type": "markdown",
      "metadata": {
        "id": "3gwyHgEKLhLg",
        "colab_type": "text"
      },
      "source": [
        "#Step 4.2 :- Checking For Duplicates and Removing them"
      ]
    },
    {
      "cell_type": "markdown",
      "metadata": {
        "id": "uPlIrWo-E6Mq",
        "colab_type": "text"
      },
      "source": [
        "This is a handy thing to perform on a data set because often there might be duplicate or redundant data in the data sets, to remove this I used the Price as a reference such that there cannot be more than two same prices of the car, it shows that few data are redundant because prices of the cars can never match very accurately. "
      ]
    },
    {
      "cell_type": "markdown",
      "metadata": {
        "id": "Lh03bNEpXGM9",
        "colab_type": "text"
      },
      "source": [
        "To see how much duplicated data is present following is used"
      ]
    },
    {
      "cell_type": "code",
      "metadata": {
        "id": "bg9NDkv-N0d_",
        "colab_type": "code",
        "colab": {
          "base_uri": "https://localhost:8080/",
          "height": 33
        },
        "outputId": "8eb85df4-17cc-4a4b-c286-835aec7ddf26"
      },
      "source": [
        "duplicated=car[car.duplicated()]\n",
        "print(duplicated.shape)"
      ],
      "execution_count": null,
      "outputs": [
        {
          "output_type": "stream",
          "text": [
            "(801, 12)\n"
          ],
          "name": "stdout"
        }
      ]
    },
    {
      "cell_type": "markdown",
      "metadata": {
        "id": "ea54-J08XbiR",
        "colab_type": "text"
      },
      "source": [
        "Now Duplicates will be removed by following steps"
      ]
    },
    {
      "cell_type": "code",
      "metadata": {
        "id": "OIHQKPePXjK7",
        "colab_type": "code",
        "colab": {
          "base_uri": "https://localhost:8080/",
          "height": 422
        },
        "outputId": "65dadef6-bec6-4619-b452-8832536599e9"
      },
      "source": [
        "car.head(10).transpose()"
      ],
      "execution_count": null,
      "outputs": [
        {
          "output_type": "execute_result",
          "data": {
            "text/html": [
              "<div>\n",
              "<style scoped>\n",
              "    .dataframe tbody tr th:only-of-type {\n",
              "        vertical-align: middle;\n",
              "    }\n",
              "\n",
              "    .dataframe tbody tr th {\n",
              "        vertical-align: top;\n",
              "    }\n",
              "\n",
              "    .dataframe thead th {\n",
              "        text-align: right;\n",
              "    }\n",
              "</style>\n",
              "<table border=\"1\" class=\"dataframe\">\n",
              "  <thead>\n",
              "    <tr style=\"text-align: right;\">\n",
              "      <th></th>\n",
              "      <th>0</th>\n",
              "      <th>1</th>\n",
              "      <th>2</th>\n",
              "      <th>3</th>\n",
              "      <th>4</th>\n",
              "      <th>5</th>\n",
              "      <th>6</th>\n",
              "      <th>7</th>\n",
              "      <th>8</th>\n",
              "      <th>9</th>\n",
              "    </tr>\n",
              "  </thead>\n",
              "  <tbody>\n",
              "    <tr>\n",
              "      <th>Make</th>\n",
              "      <td>BMW</td>\n",
              "      <td>BMW</td>\n",
              "      <td>BMW</td>\n",
              "      <td>BMW</td>\n",
              "      <td>BMW</td>\n",
              "      <td>BMW</td>\n",
              "      <td>BMW</td>\n",
              "      <td>BMW</td>\n",
              "      <td>BMW</td>\n",
              "      <td>BMW</td>\n",
              "    </tr>\n",
              "    <tr>\n",
              "      <th>Year</th>\n",
              "      <td>2011</td>\n",
              "      <td>2011</td>\n",
              "      <td>2011</td>\n",
              "      <td>2011</td>\n",
              "      <td>2011</td>\n",
              "      <td>2012</td>\n",
              "      <td>2012</td>\n",
              "      <td>2012</td>\n",
              "      <td>2012</td>\n",
              "      <td>2013</td>\n",
              "    </tr>\n",
              "    <tr>\n",
              "      <th>HP</th>\n",
              "      <td>335</td>\n",
              "      <td>300</td>\n",
              "      <td>300</td>\n",
              "      <td>230</td>\n",
              "      <td>230</td>\n",
              "      <td>230</td>\n",
              "      <td>300</td>\n",
              "      <td>300</td>\n",
              "      <td>230</td>\n",
              "      <td>230</td>\n",
              "    </tr>\n",
              "    <tr>\n",
              "      <th>Cylinders</th>\n",
              "      <td>6</td>\n",
              "      <td>6</td>\n",
              "      <td>6</td>\n",
              "      <td>6</td>\n",
              "      <td>6</td>\n",
              "      <td>6</td>\n",
              "      <td>6</td>\n",
              "      <td>6</td>\n",
              "      <td>6</td>\n",
              "      <td>6</td>\n",
              "    </tr>\n",
              "    <tr>\n",
              "      <th>Transmission</th>\n",
              "      <td>MANUAL</td>\n",
              "      <td>MANUAL</td>\n",
              "      <td>MANUAL</td>\n",
              "      <td>MANUAL</td>\n",
              "      <td>MANUAL</td>\n",
              "      <td>MANUAL</td>\n",
              "      <td>MANUAL</td>\n",
              "      <td>MANUAL</td>\n",
              "      <td>MANUAL</td>\n",
              "      <td>MANUAL</td>\n",
              "    </tr>\n",
              "    <tr>\n",
              "      <th>Drive Mode</th>\n",
              "      <td>rear wheel drive</td>\n",
              "      <td>rear wheel drive</td>\n",
              "      <td>rear wheel drive</td>\n",
              "      <td>rear wheel drive</td>\n",
              "      <td>rear wheel drive</td>\n",
              "      <td>rear wheel drive</td>\n",
              "      <td>rear wheel drive</td>\n",
              "      <td>rear wheel drive</td>\n",
              "      <td>rear wheel drive</td>\n",
              "      <td>rear wheel drive</td>\n",
              "    </tr>\n",
              "    <tr>\n",
              "      <th>Vehicle Size</th>\n",
              "      <td>Compact</td>\n",
              "      <td>Compact</td>\n",
              "      <td>Compact</td>\n",
              "      <td>Compact</td>\n",
              "      <td>Compact</td>\n",
              "      <td>Compact</td>\n",
              "      <td>Compact</td>\n",
              "      <td>Compact</td>\n",
              "      <td>Compact</td>\n",
              "      <td>Compact</td>\n",
              "    </tr>\n",
              "    <tr>\n",
              "      <th>Vehicle Style</th>\n",
              "      <td>Coupe</td>\n",
              "      <td>Convertible</td>\n",
              "      <td>Coupe</td>\n",
              "      <td>Coupe</td>\n",
              "      <td>Convertible</td>\n",
              "      <td>Coupe</td>\n",
              "      <td>Convertible</td>\n",
              "      <td>Coupe</td>\n",
              "      <td>Convertible</td>\n",
              "      <td>Convertible</td>\n",
              "    </tr>\n",
              "    <tr>\n",
              "      <th>MPG-H</th>\n",
              "      <td>26</td>\n",
              "      <td>28</td>\n",
              "      <td>28</td>\n",
              "      <td>28</td>\n",
              "      <td>28</td>\n",
              "      <td>28</td>\n",
              "      <td>26</td>\n",
              "      <td>28</td>\n",
              "      <td>28</td>\n",
              "      <td>27</td>\n",
              "    </tr>\n",
              "    <tr>\n",
              "      <th>MPG-C</th>\n",
              "      <td>19</td>\n",
              "      <td>19</td>\n",
              "      <td>20</td>\n",
              "      <td>18</td>\n",
              "      <td>18</td>\n",
              "      <td>18</td>\n",
              "      <td>17</td>\n",
              "      <td>20</td>\n",
              "      <td>18</td>\n",
              "      <td>18</td>\n",
              "    </tr>\n",
              "    <tr>\n",
              "      <th>Popularity</th>\n",
              "      <td>3916</td>\n",
              "      <td>3916</td>\n",
              "      <td>3916</td>\n",
              "      <td>3916</td>\n",
              "      <td>3916</td>\n",
              "      <td>3916</td>\n",
              "      <td>3916</td>\n",
              "      <td>3916</td>\n",
              "      <td>3916</td>\n",
              "      <td>3916</td>\n",
              "    </tr>\n",
              "    <tr>\n",
              "      <th>Price</th>\n",
              "      <td>46135</td>\n",
              "      <td>40650</td>\n",
              "      <td>36350</td>\n",
              "      <td>29450</td>\n",
              "      <td>34500</td>\n",
              "      <td>31200</td>\n",
              "      <td>44100</td>\n",
              "      <td>39300</td>\n",
              "      <td>36900</td>\n",
              "      <td>37200</td>\n",
              "    </tr>\n",
              "  </tbody>\n",
              "</table>\n",
              "</div>"
            ],
            "text/plain": [
              "                              0  ...                 9\n",
              "Make                        BMW  ...               BMW\n",
              "Year                       2011  ...              2013\n",
              "HP                          335  ...               230\n",
              "Cylinders                     6  ...                 6\n",
              "Transmission             MANUAL  ...            MANUAL\n",
              "Drive Mode     rear wheel drive  ...  rear wheel drive\n",
              "Vehicle Size            Compact  ...           Compact\n",
              "Vehicle Style             Coupe  ...       Convertible\n",
              "MPG-H                        26  ...                27\n",
              "MPG-C                        19  ...                18\n",
              "Popularity                 3916  ...              3916\n",
              "Price                     46135  ...             37200\n",
              "\n",
              "[12 rows x 10 columns]"
            ]
          },
          "metadata": {
            "tags": []
          },
          "execution_count": 10
        }
      ]
    },
    {
      "cell_type": "code",
      "metadata": {
        "id": "vlQSIZ4_XkyX",
        "colab_type": "code",
        "colab": {
          "base_uri": "https://localhost:8080/",
          "height": 33
        },
        "outputId": "15e17787-5a6a-4922-f096-23d311d4a79b"
      },
      "source": [
        "car.drop_duplicates().shape"
      ],
      "execution_count": null,
      "outputs": [
        {
          "output_type": "execute_result",
          "data": {
            "text/plain": [
              "(11113, 12)"
            ]
          },
          "metadata": {
            "tags": []
          },
          "execution_count": 11
        }
      ]
    },
    {
      "cell_type": "markdown",
      "metadata": {
        "id": "uHn0NXWhXopa",
        "colab_type": "text"
      },
      "source": [
        "Hence duplicates are removed"
      ]
    },
    {
      "cell_type": "markdown",
      "metadata": {
        "id": "XyerACSRKZFf",
        "colab_type": "text"
      },
      "source": [
        "#Step 4.3 :- Checking For Outliers and Removing them"
      ]
    },
    {
      "cell_type": "markdown",
      "metadata": {
        "id": "dyxBm-X9KgzB",
        "colab_type": "text"
      },
      "source": [
        "An outlier is a point or set of points different from other points. Sometimes they can be very high or very low. It’s often a good idea to detect and remove the outliers because outliers are one of the primary reasons for resulting in a less accurate model. IQR score technique to detect and remove the outliers.In the plot, you can find some points are outside the box they are none other than outliers"
      ]
    },
    {
      "cell_type": "code",
      "metadata": {
        "id": "EZ81WqvbLBV_",
        "colab_type": "code",
        "colab": {
          "base_uri": "https://localhost:8080/",
          "height": 296
        },
        "outputId": "e9c162eb-98c2-453c-c722-cd4979909b31"
      },
      "source": [
        "sns.boxplot(x=car['Price'])"
      ],
      "execution_count": null,
      "outputs": [
        {
          "output_type": "execute_result",
          "data": {
            "text/plain": [
              "<matplotlib.axes._subplots.AxesSubplot at 0x7f8ec0e22470>"
            ]
          },
          "metadata": {
            "tags": []
          },
          "execution_count": 12
        },
        {
          "output_type": "display_data",
          "data": {
            "image/png": "[encoded data removed]",
            "text/plain": [
              "<Figure size 432x288 with 1 Axes>"
            ]
          },
          "metadata": {
            "tags": [],
            "needs_background": "light"
          }
        }
      ]
    },
    {
      "cell_type": "code",
      "metadata": {
        "id": "ugWr3_BKLWY9",
        "colab_type": "code",
        "colab": {
          "base_uri": "https://localhost:8080/",
          "height": 150
        },
        "outputId": "4da0797d-ecca-45e0-c8be-4dbf095d8b42"
      },
      "source": [
        "Q1 = car.quantile(0.25)\n",
        "Q3 = car.quantile(0.75)\n",
        "IQR = Q3-Q1\n",
        "print(IQR)"
      ],
      "execution_count": null,
      "outputs": [
        {
          "output_type": "stream",
          "text": [
            "Year              9.00\n",
            "HP              130.00\n",
            "Cylinders         2.00\n",
            "MPG-H             8.00\n",
            "MPG-C             6.00\n",
            "Popularity     1460.00\n",
            "Price         21231.25\n",
            "dtype: float64\n"
          ],
          "name": "stdout"
        }
      ]
    },
    {
      "cell_type": "code",
      "metadata": {
        "id": "mJM5lxFDLi5Z",
        "colab_type": "code",
        "colab": {}
      },
      "source": [
        "car = car[~((car < (Q1-1.5 * IQR)) |(car > (Q3+1.5 * IQR))).any(axis=1)]"
      ],
      "execution_count": null,
      "outputs": []
    },
    {
      "cell_type": "code",
      "metadata": {
        "id": "BQrwKNA5LsJF",
        "colab_type": "code",
        "colab": {
          "base_uri": "https://localhost:8080/",
          "height": 296
        },
        "outputId": "0deee1ee-37e6-45e2-e45a-bf91c8b02810"
      },
      "source": [
        "sns.boxplot(x=car['Price'])"
      ],
      "execution_count": null,
      "outputs": [
        {
          "output_type": "execute_result",
          "data": {
            "text/plain": [
              "<matplotlib.axes._subplots.AxesSubplot at 0x7f8ec158ea90>"
            ]
          },
          "metadata": {
            "tags": []
          },
          "execution_count": 15
        },
        {
          "output_type": "display_data",
          "data": {
            "image/png": "[encoded data removed]",
            "text/plain": [
              "<Figure size 432x288 with 1 Axes>"
            ]
          },
          "metadata": {
            "tags": [],
            "needs_background": "light"
          }
        }
      ]
    },
    {
      "cell_type": "markdown",
      "metadata": {
        "id": "tEIJM2yBL0Ow",
        "colab_type": "text"
      },
      "source": [
        "Hence the Outliers are Removed"
      ]
    },
    {
      "cell_type": "markdown",
      "metadata": {
        "id": "oK-X-wv2bI5N",
        "colab_type": "text"
      },
      "source": [
        "#Step 5 :- Graphs For Various Columns"
      ]
    },
    {
      "cell_type": "markdown",
      "metadata": {
        "id": "QLo_3uEJjp1E",
        "colab_type": "text"
      },
      "source": [
        "GRAPHS FOR FEATURES HAVING NUMERIC VALUE"
      ]
    },
    {
      "cell_type": "code",
      "metadata": {
        "id": "oNc-uuWZbYHN",
        "colab_type": "code",
        "colab": {
          "base_uri": "https://localhost:8080/",
          "height": 585
        },
        "outputId": "1c5737b2-17fa-4b4e-bd8f-5dfbae4e69c7"
      },
      "source": [
        "car[['HP','MPG-H','Cylinders','MPG-C']].hist(figsize=(10,8),bins=6,color='Y')\n",
        "\n",
        "plt.tight_layout()\n",
        "plt.show()"
      ],
      "execution_count": null,
      "outputs": [
        {
          "output_type": "display_data",
          "data": {
            "image/png": "[encoded data removed]",
            "text/plain": [
              "<Figure size 720x576 with 4 Axes>"
            ]
          },
          "metadata": {
            "tags": [],
            "needs_background": "light"
          }
        }
      ]
    },
    {
      "cell_type": "markdown",
      "metadata": {
        "id": "t52Ba0XejygC",
        "colab_type": "text"
      },
      "source": [
        "From the graph we can infer that\n",
        " \n",
        "\n",
        "*   Max no of cylinders range from 3-6. \n",
        "*   Max HP is near 200.\n",
        "*   Highway MPG and City MPG are in range of 20-60 and 10-30 respectively\n",
        " "
      ]
    },
    {
      "cell_type": "markdown",
      "metadata": {
        "id": "6WaZtTYelWhg",
        "colab_type": "text"
      },
      "source": [
        "GRAPHS FOR FEATURES HAVING CATEGORICAL VALUE"
      ]
    },
    {
      "cell_type": "code",
      "metadata": {
        "id": "D8Q3UFWdgZQa",
        "colab_type": "code",
        "colab": {
          "base_uri": "https://localhost:8080/",
          "height": 585
        },
        "outputId": "9f152200-ab01-472c-b6c1-dd614baf579b"
      },
      "source": [
        "#graph 1\n",
        "plt.figure(1)\n",
        "plt.subplot(221)\n",
        "car['Transmission'].value_counts(normalize=True).plot(figsize=(10,8),kind='bar',color='red')\n",
        "plt.title(\"Transmission Type of Car\")\n",
        "plt.xlabel('Transmission Type')\n",
        "plt.ylabel('No of Cars');\n",
        "\n",
        "#graph 2\n",
        "plt.subplot(222)\n",
        "car['Drive Mode'].value_counts(normalize=True).plot(figsize=(10,8),kind='bar',color='green')\n",
        "plt.title(\"Drive Mode of Car\")\n",
        "plt.xlabel('Drive Mode')\n",
        "plt.ylabel('No of Cars');\n",
        "\n",
        "#graph 3\n",
        "plt.subplot(223)\n",
        "car['Vehicle Size'].value_counts(normalize=True).plot(figsize=(10,8),kind='bar',color='blue')\n",
        "plt.title(\"Vehicle Size of Car\")\n",
        "plt.xlabel('Vehicle Size')\n",
        "plt.ylabel('No of Cars');\n",
        "\n",
        "#graph 4\n",
        "plt.subplot(224)\n",
        "car['Vehicle Style'].value_counts(normalize=True).plot(figsize=(10,8),kind='bar',color='orange')\n",
        "plt.title(\"Vehicle Style of Car\")\n",
        "plt.xlabel('Vehicle Style')\n",
        "plt.ylabel('No of Cars');\n",
        "\n",
        "plt.tight_layout()\n",
        "plt.show()\n"
      ],
      "execution_count": null,
      "outputs": [
        {
          "output_type": "display_data",
          "data": {
            "image/png": "[encoded data removed]",
            "text/plain": [
              "<Figure size 720x576 with 4 Axes>"
            ]
          },
          "metadata": {
            "tags": [],
            "needs_background": "light"
          }
        }
      ]
    },
    {
      "cell_type": "markdown",
      "metadata": {
        "id": "ZULupOTylcNH",
        "colab_type": "text"
      },
      "source": [
        "From graphs We see that Maximum no of cars are automatic, front wheel driven, compact and sedan style."
      ]
    },
    {
      "cell_type": "markdown",
      "metadata": {
        "id": "H1Ktpo95UrsO",
        "colab_type": "text"
      },
      "source": [
        "#Step 6.1 :- Most represented Car Brands in the dataset"
      ]
    },
    {
      "cell_type": "markdown",
      "metadata": {
        "id": "Ij7fblVQVF4i",
        "colab_type": "text"
      },
      "source": [
        "Top 10 Car Brands"
      ]
    },
    {
      "cell_type": "code",
      "metadata": {
        "id": "Vib4SnE-iI3A",
        "colab_type": "code",
        "colab": {
          "base_uri": "https://localhost:8080/",
          "height": 336
        },
        "outputId": "74b07cb0-2b96-4439-9b32-ef3009ceef75"
      },
      "source": [
        "#percentage of car per brand\n",
        "counts=car['Make'].value_counts()*100/sum(car['Make'].value_counts())\n",
        "#Top 10 car brand\n",
        "popular_make=counts.index[:10]\n",
        "\n",
        "#plot\n",
        "plt.figure(figsize=(10,5))\n",
        "plt.barh(popular_make, width=counts[:10])\n",
        "plt.title(\"Most represented car brands\")\n",
        "plt.show()"
      ],
      "execution_count": null,
      "outputs": [
        {
          "output_type": "display_data",
          "data": {
            "image/png": "[encoded data removed]",
            "text/plain": [
              "<Figure size 720x360 with 1 Axes>"
            ]
          },
          "metadata": {
            "tags": [],
            "needs_background": "light"
          }
        }
      ]
    },
    {
      "cell_type": "markdown",
      "metadata": {
        "id": "Pb7sjpW9dQgt",
        "colab_type": "text"
      },
      "source": [
        "From the Graph It is clear that Top 5 brands are CHEVROLET , FORD , VOLKSWAGEN , TOYOTA and DODGE"
      ]
    },
    {
      "cell_type": "markdown",
      "metadata": {
        "id": "vHPYBd_ReB-T",
        "colab_type": "text"
      },
      "source": [
        "#Step 6.2 :- Average Price among the Top Car Brands"
      ]
    },
    {
      "cell_type": "markdown",
      "metadata": {
        "id": "6ZZtc21xak3Y",
        "colab_type": "text"
      },
      "source": [
        "From previous Most represented car brands , top 5 are chosen to see the average price among them"
      ]
    },
    {
      "cell_type": "code",
      "metadata": {
        "id": "crJmvvaDkWJY",
        "colab_type": "code",
        "colab": {
          "base_uri": "https://localhost:8080/",
          "height": 134
        },
        "outputId": "d217e38f-cf72-4fb9-8396-e4cad8293426"
      },
      "source": [
        "prices=car[['Make','Price']].loc[(car['Make']=='Chevrolet')|\n",
        "                                (car['Make']=='Ford')|\n",
        "                                 (car['Make']=='Volkswagen')|\n",
        "                                 (car['Make']=='Toyota')|\n",
        "                                 (car['Make']=='Dodge')].groupby('Make').mean()\n",
        "print(prices)"
      ],
      "execution_count": null,
      "outputs": [
        {
          "output_type": "stream",
          "text": [
            "                   Price\n",
            "Make                    \n",
            "Chevrolet   28350.385574\n",
            "Dodge       22390.059105\n",
            "Ford        27399.266742\n",
            "Toyota      29030.016086\n",
            "Volkswagen  28102.380717\n"
          ],
          "name": "stdout"
        }
      ]
    },
    {
      "cell_type": "markdown",
      "metadata": {
        "id": "APKaLiSAcA89",
        "colab_type": "text"
      },
      "source": [
        "Piechart for Average Prices Of top brands"
      ]
    },
    {
      "cell_type": "code",
      "metadata": {
        "id": "uNfGHM4lbMWY",
        "colab_type": "code",
        "colab": {
          "base_uri": "https://localhost:8080/",
          "height": 445
        },
        "outputId": "0bb63667-5c8c-44f6-8cb2-ab977f05eff1"
      },
      "source": [
        "cars = ['CHEVROLET' , 'FORD' , 'VOLKSWAGEN' , 'TOYOTA' , 'DODGE'] \n",
        "fig = plt.figure(figsize =(8, 5)) \n",
        "ax=fig.add_axes([0,0,1,1])\n",
        "ax.axis('equal')\n",
        "plt.pie(prices, labels = cars, autopct='%1.2f%%') \n",
        "  \n",
        "# show plot \n",
        "plt.show() "
      ],
      "execution_count": null,
      "outputs": [
        {
          "output_type": "stream",
          "text": [
            "/usr/local/lib/python3.6/dist-packages/ipykernel_launcher.py:5: MatplotlibDeprecationWarning: Non-1D inputs to pie() are currently squeeze()d, but this behavior is deprecated since 3.1 and will be removed in 3.3; pass a 1D array instead.\n",
            "  \"\"\"\n"
          ],
          "name": "stderr"
        },
        {
          "output_type": "display_data",
          "data": {
            "image/png": "[encoded data removed]",
            "text/plain": [
              "<Figure size 576x360 with 1 Axes>"
            ]
          },
          "metadata": {
            "tags": []
          }
        }
      ]
    },
    {
      "cell_type": "markdown",
      "metadata": {
        "id": "wmgkSQE4cF3A",
        "colab_type": "text"
      },
      "source": [
        "The piechart makes it easier to see that among top 5 car brands Toyota is most expensive and Ford is Least Expensive"
      ]
    },
    {
      "cell_type": "markdown",
      "metadata": {
        "id": "NdgLY0Rmqk2B",
        "colab_type": "text"
      },
      "source": [
        "#Step 7 :- Correlation Matrix and Heat Map"
      ]
    },
    {
      "cell_type": "markdown",
      "metadata": {
        "id": "4LHLRBSqGuBU",
        "colab_type": "text"
      },
      "source": [
        "CORRELATION MATRIX"
      ]
    },
    {
      "cell_type": "code",
      "metadata": {
        "id": "vNGwA9C0GunF",
        "colab_type": "code",
        "colab": {
          "base_uri": "https://localhost:8080/",
          "height": 256
        },
        "outputId": "74709477-a924-4107-d6a5-cfa93b81162a"
      },
      "source": [
        "car.corr()"
      ],
      "execution_count": null,
      "outputs": [
        {
          "output_type": "execute_result",
          "data": {
            "text/html": [
              "<div>\n",
              "<style scoped>\n",
              "    .dataframe tbody tr th:only-of-type {\n",
              "        vertical-align: middle;\n",
              "    }\n",
              "\n",
              "    .dataframe tbody tr th {\n",
              "        vertical-align: top;\n",
              "    }\n",
              "\n",
              "    .dataframe thead th {\n",
              "        text-align: right;\n",
              "    }\n",
              "</style>\n",
              "<table border=\"1\" class=\"dataframe\">\n",
              "  <thead>\n",
              "    <tr style=\"text-align: right;\">\n",
              "      <th></th>\n",
              "      <th>Year</th>\n",
              "      <th>HP</th>\n",
              "      <th>Cylinders</th>\n",
              "      <th>MPG-H</th>\n",
              "      <th>MPG-C</th>\n",
              "      <th>Popularity</th>\n",
              "      <th>Price</th>\n",
              "    </tr>\n",
              "  </thead>\n",
              "  <tbody>\n",
              "    <tr>\n",
              "      <th>Year</th>\n",
              "      <td>1.000000</td>\n",
              "      <td>0.330966</td>\n",
              "      <td>-0.103807</td>\n",
              "      <td>0.362741</td>\n",
              "      <td>0.328945</td>\n",
              "      <td>0.202637</td>\n",
              "      <td>0.606315</td>\n",
              "    </tr>\n",
              "    <tr>\n",
              "      <th>HP</th>\n",
              "      <td>0.330966</td>\n",
              "      <td>1.000000</td>\n",
              "      <td>0.736532</td>\n",
              "      <td>-0.467195</td>\n",
              "      <td>-0.561765</td>\n",
              "      <td>0.108887</td>\n",
              "      <td>0.740020</td>\n",
              "    </tr>\n",
              "    <tr>\n",
              "      <th>Cylinders</th>\n",
              "      <td>-0.103807</td>\n",
              "      <td>0.736532</td>\n",
              "      <td>1.000000</td>\n",
              "      <td>-0.705239</td>\n",
              "      <td>-0.755929</td>\n",
              "      <td>0.029263</td>\n",
              "      <td>0.379072</td>\n",
              "    </tr>\n",
              "    <tr>\n",
              "      <th>MPG-H</th>\n",
              "      <td>0.362741</td>\n",
              "      <td>-0.467195</td>\n",
              "      <td>-0.705239</td>\n",
              "      <td>1.000000</td>\n",
              "      <td>0.938849</td>\n",
              "      <td>0.073455</td>\n",
              "      <td>-0.120786</td>\n",
              "    </tr>\n",
              "    <tr>\n",
              "      <th>MPG-C</th>\n",
              "      <td>0.328945</td>\n",
              "      <td>-0.561765</td>\n",
              "      <td>-0.755929</td>\n",
              "      <td>0.938849</td>\n",
              "      <td>1.000000</td>\n",
              "      <td>0.064806</td>\n",
              "      <td>-0.192441</td>\n",
              "    </tr>\n",
              "    <tr>\n",
              "      <th>Popularity</th>\n",
              "      <td>0.202637</td>\n",
              "      <td>0.108887</td>\n",
              "      <td>0.029263</td>\n",
              "      <td>0.073455</td>\n",
              "      <td>0.064806</td>\n",
              "      <td>1.000000</td>\n",
              "      <td>0.118664</td>\n",
              "    </tr>\n",
              "    <tr>\n",
              "      <th>Price</th>\n",
              "      <td>0.606315</td>\n",
              "      <td>0.740020</td>\n",
              "      <td>0.379072</td>\n",
              "      <td>-0.120786</td>\n",
              "      <td>-0.192441</td>\n",
              "      <td>0.118664</td>\n",
              "      <td>1.000000</td>\n",
              "    </tr>\n",
              "  </tbody>\n",
              "</table>\n",
              "</div>"
            ],
            "text/plain": [
              "                Year        HP  Cylinders  ...     MPG-C  Popularity     Price\n",
              "Year        1.000000  0.330966  -0.103807  ...  0.328945    0.202637  0.606315\n",
              "HP          0.330966  1.000000   0.736532  ... -0.561765    0.108887  0.740020\n",
              "Cylinders  -0.103807  0.736532   1.000000  ... -0.755929    0.029263  0.379072\n",
              "MPG-H       0.362741 -0.467195  -0.705239  ...  0.938849    0.073455 -0.120786\n",
              "MPG-C       0.328945 -0.561765  -0.755929  ...  1.000000    0.064806 -0.192441\n",
              "Popularity  0.202637  0.108887   0.029263  ...  0.064806    1.000000  0.118664\n",
              "Price       0.606315  0.740020   0.379072  ... -0.192441    0.118664  1.000000\n",
              "\n",
              "[7 rows x 7 columns]"
            ]
          },
          "metadata": {
            "tags": []
          },
          "execution_count": 67
        }
      ]
    },
    {
      "cell_type": "markdown",
      "metadata": {
        "id": "svzIDjCeG63C",
        "colab_type": "text"
      },
      "source": [
        "High correlation between \n",
        "* Cylinders & HP\n",
        "* Highway mpg & City mpg\n",
        "\n",
        "The more cylinders there are, the more powerful the car is"
      ]
    },
    {
      "cell_type": "markdown",
      "metadata": {
        "id": "GL3hS2SjHMzJ",
        "colab_type": "text"
      },
      "source": [
        "High anticorrelation between Cylinders & Highway MPG\n",
        "Highway MPG ie lower MPG figures mean higher fuel consumption."
      ]
    },
    {
      "cell_type": "markdown",
      "metadata": {
        "id": "MENWl-8buBNV",
        "colab_type": "text"
      },
      "source": [
        "HEAT MAP"
      ]
    },
    {
      "cell_type": "markdown",
      "metadata": {
        "id": "MPyw4--4uCoL",
        "colab_type": "text"
      },
      "source": [
        "Heat Map is a plot which is necessary when we need to find the dependent variables. One of the best ways to find the correlation between the features can be done using heat maps.Each square shows the correlation between the variables on each axis. Correlation ranges from -1 to +1. Values closer to zero means there is no linear trend between the two variables. The close to 1 the correlation is the more positively correlated they are; that is as one increases so does the other and the closer to 1 the stronger this relationship is. A correlation closer to -1 is similar, but instead of both increasing one variable will decrease as the other increases. For the rest the larger the number higher the correlation between the two variables. "
      ]
    },
    {
      "cell_type": "code",
      "metadata": {
        "id": "yjD1JF5wqt4u",
        "colab_type": "code",
        "colab": {
          "base_uri": "https://localhost:8080/",
          "height": 553
        },
        "outputId": "603110c1-91ef-4ec6-e697-6b51b96bdcf3"
      },
      "source": [
        "corrmat=car.corr()\n",
        "plt.subplots(figsize=(12,9))\n",
        "mask=np.zeros_like(corrmat, dtype=np.bool)\n",
        "mask[np.triu_indices_from(mask)]=True\n",
        "sns.heatmap(corrmat,vmax=0.9,square=True, annot=True,mask=mask,cbar_kws={\"shrink\":.5})"
      ],
      "execution_count": null,
      "outputs": [
        {
          "output_type": "execute_result",
          "data": {
            "text/plain": [
              "<matplotlib.axes._subplots.AxesSubplot at 0x7f30f4b8fda0>"
            ]
          },
          "metadata": {
            "tags": []
          },
          "execution_count": 68
        },
        {
          "output_type": "display_data",
          "data": {
            "image/png": "[encoded data removed]",
            "text/plain": [
              "<Figure size 864x648 with 2 Axes>"
            ]
          },
          "metadata": {
            "tags": [],
            "needs_background": "light"
          }
        }
      ]
    },
    {
      "cell_type": "markdown",
      "metadata": {
        "id": "RIQl0pI-uR6H",
        "colab_type": "text"
      },
      "source": [
        "From the heat map we infer that \n",
        "   \n",
        "*  Price greatly depends on HP and Cylinders\n",
        "*  Also HP and Cylinders are positively dependent on each other\n",
        "*  And MPG-H MPG-C are negatively dependent on cylinders\n",
        "\n",
        "\n",
        "\n",
        "\n",
        "\n",
        "   \n",
        "\n",
        "\n",
        "\n",
        "\n"
      ]
    },
    {
      "cell_type": "markdown",
      "metadata": {
        "id": "nwSR7KPfypWE",
        "colab_type": "text"
      },
      "source": [
        "#Step 8:-Plotting different graphs to see how other variables affect the price of the car"
      ]
    },
    {
      "cell_type": "markdown",
      "metadata": {
        "id": "sq61ripk2u2i",
        "colab_type": "text"
      },
      "source": [
        "GRAPH 1 :- HORSEPOWER AND PRICE\n",
        "\n",
        "\n"
      ]
    },
    {
      "cell_type": "code",
      "metadata": {
        "id": "_r-3ipxO2SKJ",
        "colab_type": "code",
        "colab": {
          "base_uri": "https://localhost:8080/",
          "height": 404
        },
        "outputId": "03e188d5-82cc-4d57-dd70-d034538c5cf4"
      },
      "source": [
        "fig, ax = plt.subplots(figsize=(6,6))\n",
        "ax.scatter(car['HP'], car['Price'])\n",
        "plt.title('Scatter plot between Price and Horsepower')\n",
        "ax.set_xlabel('HP')\n",
        "ax.set_ylabel('Price')\n",
        "plt.show()"
      ],
      "execution_count": null,
      "outputs": [
        {
          "output_type": "display_data",
          "data": {
            "image/png": "[encoded data removed]",
            "text/plain": [
              "<Figure size 432x432 with 1 Axes>"
            ]
          },
          "metadata": {
            "tags": []
          }
        }
      ]
    },
    {
      "cell_type": "markdown",
      "metadata": {
        "id": "tL8YUqi8-6oe",
        "colab_type": "text"
      },
      "source": [
        " It is proved by the graph above that Horsepower and Price are Positively Related ie higher the HP higher is the price"
      ]
    },
    {
      "cell_type": "markdown",
      "metadata": {
        "id": "puLmRT10-tBQ",
        "colab_type": "text"
      },
      "source": [
        "GRAPH 2 :- NUMBER OF CYLINDERS AND PRICE "
      ]
    },
    {
      "cell_type": "code",
      "metadata": {
        "id": "Z0fdz9h3247X",
        "colab_type": "code",
        "colab": {
          "base_uri": "https://localhost:8080/",
          "height": 279
        },
        "outputId": "a06287be-cf0c-4e77-c438-dfe8532a6f71"
      },
      "source": [
        "plt.rcParams['figure.figsize']=(10,4)\n",
        "ax = sns.boxplot(x=\"Cylinders\", y=\"Price\", data=car)"
      ],
      "execution_count": null,
      "outputs": [
        {
          "output_type": "display_data",
          "data": {
            "image/png": "[encoded data removed]",
            "text/plain": [
              "<Figure size 720x288 with 1 Axes>"
            ]
          },
          "metadata": {
            "tags": [],
            "needs_background": "light"
          }
        }
      ]
    },
    {
      "cell_type": "markdown",
      "metadata": {
        "id": "X-_nvkak_FfB",
        "colab_type": "text"
      },
      "source": [
        "From the graph it is clear that Number of Cylinders and Price are also Directly Related ie as number increases prices also increases"
      ]
    },
    {
      "cell_type": "markdown",
      "metadata": {
        "id": "JcBhCtJV3eXz",
        "colab_type": "text"
      },
      "source": [
        "GRAPH 3 :- VEHICLE SIZE AND TRANSMISSION OVER PRICE"
      ]
    },
    {
      "cell_type": "code",
      "metadata": {
        "id": "6tWuG5FK3eu6",
        "colab_type": "code",
        "colab": {
          "base_uri": "https://localhost:8080/",
          "height": 385
        },
        "outputId": "ddd294a9-85f7-4375-89f2-7b37be0af9a6"
      },
      "source": [
        "sns.catplot(data=car, x=\"Vehicle Size\", y=\"Price\", hue=\"Transmission\" ,kind=\"point\")"
      ],
      "execution_count": null,
      "outputs": [
        {
          "output_type": "execute_result",
          "data": {
            "text/plain": [
              "<seaborn.axisgrid.FacetGrid at 0x7f1dcccf54a8>"
            ]
          },
          "metadata": {
            "tags": []
          },
          "execution_count": 27
        },
        {
          "output_type": "display_data",
          "data": {
            "image/png": "[encoded data removed]",
            "text/plain": [
              "<Figure size 506.5x360 with 1 Axes>"
            ]
          },
          "metadata": {
            "tags": [],
            "needs_background": "light"
          }
        }
      ]
    },
    {
      "cell_type": "markdown",
      "metadata": {
        "id": "jQEiqt577xW8",
        "colab_type": "text"
      },
      "source": [
        "Hence Automated Manual Transmission is most expensive for Mid-Sized vehicles and Automatic for large vehicle size."
      ]
    },
    {
      "cell_type": "markdown",
      "metadata": {
        "id": "r3f4cwLBWKoq",
        "colab_type": "text"
      },
      "source": [
        "GRAPH 4 :- PRICES OVER YEARS"
      ]
    },
    {
      "cell_type": "code",
      "metadata": {
        "id": "DeqOd8JcWLLx",
        "colab_type": "code",
        "colab": {
          "base_uri": "https://localhost:8080/",
          "height": 458
        },
        "outputId": "42a1d8b5-47ae-444c-d1bd-71431fd3a464"
      },
      "source": [
        "fig, ax = plt.subplots(figsize=(7,7))\n",
        "ax.scatter(car['Year'], car['Price'])\n",
        "plt.title('Scatter plot between Price and Year')\n",
        "ax.set_xlabel('Year')\n",
        "ax.set_ylabel('Price')\n",
        "plt.show()"
      ],
      "execution_count": null,
      "outputs": [
        {
          "output_type": "display_data",
          "data": {
            "image/png": "[encoded data removed]",
            "text/plain": [
              "<Figure size 504x504 with 1 Axes>"
            ]
          },
          "metadata": {
            "tags": [],
            "needs_background": "light"
          }
        }
      ]
    },
    {
      "cell_type": "markdown",
      "metadata": {
        "id": "T1maaDqaWciX",
        "colab_type": "text"
      },
      "source": [
        "Prices have rised after 2001. It is true as Nowadays the demand for cars are increasing hence price increases"
      ]
    },
    {
      "cell_type": "markdown",
      "metadata": {
        "id": "Ev6n2MZj4NF5",
        "colab_type": "text"
      },
      "source": [
        "GRAPH 5 :- EFFECT OF VEHICLE STYLE"
      ]
    },
    {
      "cell_type": "code",
      "metadata": {
        "id": "i4V_LD4xEVYF",
        "colab_type": "code",
        "colab": {
          "base_uri": "https://localhost:8080/",
          "height": 321
        },
        "outputId": "38754b5c-d1f6-4eeb-d46d-ba56091299c3"
      },
      "source": [
        "car['Vehicle Style'].value_counts().plot.bar(figsize=(10,6))\n",
        "plt.title(\"Cars sold by Body\")\n",
        "plt.ylabel('No of vehicles')\n",
        "plt.xlabel('Body type');"
      ],
      "execution_count": null,
      "outputs": [
        {
          "output_type": "display_data",
          "data": {
            "image/png": "[encoded data removed]",
            "text/plain": [
              "<Figure size 720x432 with 1 Axes>"
            ]
          },
          "metadata": {
            "tags": [],
            "needs_background": "light"
          }
        }
      ]
    },
    {
      "cell_type": "markdown",
      "metadata": {
        "id": "BJoxpZNL7c4s",
        "colab_type": "text"
      },
      "source": [
        "Hence Sedan cars were most sold foloowed by 4dr SUV "
      ]
    },
    {
      "cell_type": "markdown",
      "metadata": {
        "id": "OZWGEGDueCgm",
        "colab_type": "text"
      },
      "source": [
        "GRAPH 6 :- EFFECT OF VEHICLE STYLE AND DRIVE MODE"
      ]
    },
    {
      "cell_type": "code",
      "metadata": {
        "id": "nifpxMhYG8VU",
        "colab_type": "code",
        "colab": {
          "base_uri": "https://localhost:8080/",
          "height": 312
        },
        "outputId": "08341eb5-8ef9-482f-c6a4-3391955fbc02"
      },
      "source": [
        "sns.countplot(y='Vehicle Style', data=car,hue='Drive Mode')\n",
        "plt.title(\"Vehicle type vs Drive mode\")\n",
        "plt.ylabel('Vehicle Type')\n",
        "plt.xlabel('Count of vehicles')"
      ],
      "execution_count": null,
      "outputs": [
        {
          "output_type": "execute_result",
          "data": {
            "text/plain": [
              "Text(0.5, 0, 'Count of vehicles')"
            ]
          },
          "metadata": {
            "tags": []
          },
          "execution_count": 19
        },
        {
          "output_type": "display_data",
          "data": {
            "image/png": "[encoded data removed]",
            "text/plain": [
              "<Figure size 432x288 with 1 Axes>"
            ]
          },
          "metadata": {
            "tags": [],
            "needs_background": "light"
          }
        }
      ]
    },
    {
      "cell_type": "markdown",
      "metadata": {
        "id": "wTNsT8s4QMEy",
        "colab_type": "text"
      },
      "source": [
        "GRAPH 7 :- MPG AND PRICE"
      ]
    },
    {
      "cell_type": "code",
      "metadata": {
        "id": "z_pn08a5QuXB",
        "colab_type": "code",
        "colab": {
          "base_uri": "https://localhost:8080/",
          "height": 365
        },
        "outputId": "9cff049f-a147-4bfe-a459-9d39d146c787"
      },
      "source": [
        "#graph for highway mileage\n",
        "plt.figure(1)\n",
        "plt.subplot(221)\n",
        "car['MPG-H'].value_counts(normalize=True).plot(figsize=(15,10),kind='bar',color='red')\n",
        "plt.title(\"Highway MPG of Car\")\n",
        "plt.xlabel('MPG-H')\n",
        "plt.ylabel('Price');\n",
        "\n",
        "#graph for city mileage\n",
        "plt.subplot(222)\n",
        "car['MPG-C'].value_counts(normalize=True).plot(figsize=(15,10),kind='bar',color='green')\n",
        "plt.title(\"City MPG Car\")\n",
        "plt.xlabel('MPG-C')\n",
        "plt.ylabel('Price');\n",
        "plt.tight_layout()\n",
        "plt.show()"
      ],
      "execution_count": null,
      "outputs": [
        {
          "output_type": "display_data",
          "data": {
            "image/png": "[encoded data removed]",
            "text/plain": [
              "<Figure size 1080x720 with 2 Axes>"
            ]
          },
          "metadata": {
            "tags": [],
            "needs_background": "light"
          }
        }
      ]
    },
    {
      "cell_type": "markdown",
      "metadata": {
        "id": "Bsz1vPQbUdzH",
        "colab_type": "text"
      },
      "source": [
        "From these graphs we can infer that the Price and MPG (both city and highway) are Inversely Proportional. This is true as high MPG comes with economical cars and expensive cars tend to have a poorer MPG"
      ]
    },
    {
      "cell_type": "markdown",
      "metadata": {
        "id": "gcbzwFMWJQQ3",
        "colab_type": "text"
      },
      "source": [
        "GRAPH 8 :- MAKING A NEW GROUP \"PRICE GROUP\""
      ]
    },
    {
      "cell_type": "code",
      "metadata": {
        "id": "FT0mgnxUKAWe",
        "colab_type": "code",
        "colab": {}
      },
      "source": [
        "#Create a new col price_grp and assign value based on car price\n",
        "car['price_grp']=pd.cut(car['Price'],[0,20000,40000,60000,80000,100000,600000],\n",
        "                        labels=['<20k','20-39k','40-59k','60-79k','80-99k','>100k'],include_lowest=True)\n",
        "car['price_grp']=car['price_grp'].astype(object)"
      ],
      "execution_count": null,
      "outputs": []
    },
    {
      "cell_type": "code",
      "metadata": {
        "id": "Y4AA2MBqK-HU",
        "colab_type": "code",
        "colab": {
          "base_uri": "https://localhost:8080/",
          "height": 284
        },
        "outputId": "8fcfa70a-129e-4b55-f5a0-8919092bc3e1"
      },
      "source": [
        "(car['price_grp'].value_counts() / len(car) *100).plot.bar(figsize=(5,3))\n",
        "plt.title(\"Price Group Diagram\")\n",
        "plt.ylabel('% of Vehicles')\n",
        "plt.xlabel('price_grp')"
      ],
      "execution_count": null,
      "outputs": [
        {
          "output_type": "execute_result",
          "data": {
            "text/plain": [
              "Text(0.5, 0, 'price_grp')"
            ]
          },
          "metadata": {
            "tags": []
          },
          "execution_count": 39
        },
        {
          "output_type": "display_data",
          "data": {
            "image/png": "[encoded data removed]",
            "text/plain": [
              "<Figure size 360x216 with 1 Axes>"
            ]
          },
          "metadata": {
            "tags": [],
            "needs_background": "light"
          }
        }
      ]
    },
    {
      "cell_type": "markdown",
      "metadata": {
        "id": "lbjYGvk3Liao",
        "colab_type": "text"
      },
      "source": [
        "Hence car in 20-39k range are most sold"
      ]
    },
    {
      "cell_type": "markdown",
      "metadata": {
        "colab_type": "text",
        "id": "6vHeLNLgsv-s"
      },
      "source": [
        "#Step 9 :- Machine learning model with Price as the target variable"
      ]
    },
    {
      "cell_type": "markdown",
      "metadata": {
        "colab_type": "text",
        "id": "lXsxFnEnsv-t"
      },
      "source": [
        "Algorithm used for this is Linear regression"
      ]
    },
    {
      "cell_type": "code",
      "metadata": {
        "colab_type": "code",
        "id": "ek2hyLJRsv-u",
        "colab": {}
      },
      "source": [
        "x = car[['HP','Year','Cylinders','MPG-C','MPG-H','Popularity']].values\n",
        "y = car['Price'].values"
      ],
      "execution_count": 25,
      "outputs": []
    },
    {
      "cell_type": "code",
      "metadata": {
        "colab_type": "code",
        "id": "wKkVjniXsv-w",
        "colab": {
          "base_uri": "https://localhost:8080/",
          "height": 361
        },
        "outputId": "0e35b963-f2fb-4787-ee05-7034a4218759"
      },
      "source": [
        "plt.figure(figsize=(10,5))\n",
        "plt.tight_layout()\n",
        "seabornInstance.distplot(car['Price'])"
      ],
      "execution_count": 27,
      "outputs": [
        {
          "output_type": "execute_result",
          "data": {
            "text/plain": [
              "<matplotlib.axes._subplots.AxesSubplot at 0x7f8eb3383710>"
            ]
          },
          "metadata": {
            "tags": []
          },
          "execution_count": 27
        },
        {
          "output_type": "display_data",
          "data": {
            "image/png": "[encoded data removed]",
            "text/plain": [
              "<Figure size 720x360 with 1 Axes>"
            ]
          },
          "metadata": {
            "tags": [],
            "needs_background": "light"
          }
        }
      ]
    },
    {
      "cell_type": "markdown",
      "metadata": {
        "id": "Gfo_WbVQyDL0",
        "colab_type": "text"
      },
      "source": [
        "Splitting of dataset into trainig and test sets"
      ]
    },
    {
      "cell_type": "code",
      "metadata": {
        "colab_type": "code",
        "id": "C3vTuM49sv-z",
        "colab": {}
      },
      "source": [
        "x_train, x_test, y_train, y_test = train_test_split(x, y, test_size=0.2, random_state=0)"
      ],
      "execution_count": 28,
      "outputs": []
    },
    {
      "cell_type": "code",
      "metadata": {
        "colab_type": "code",
        "id": "QKC-KkY9sv-1",
        "colab": {
          "base_uri": "https://localhost:8080/",
          "height": 0
        },
        "outputId": "44f90ee0-e875-40e7-fcb1-6bee356ae663"
      },
      "source": [
        "regressor = LinearRegression()  \n",
        "regressor.fit(x_train, y_train)"
      ],
      "execution_count": 29,
      "outputs": [
        {
          "output_type": "execute_result",
          "data": {
            "text/plain": [
              "LinearRegression(copy_X=True, fit_intercept=True, n_jobs=None, normalize=False)"
            ]
          },
          "metadata": {
            "tags": []
          },
          "execution_count": 29
        }
      ]
    },
    {
      "cell_type": "markdown",
      "metadata": {
        "id": "Xz-S_qVTyI1U",
        "colab_type": "text"
      },
      "source": [
        "Prediction"
      ]
    },
    {
      "cell_type": "code",
      "metadata": {
        "colab_type": "code",
        "id": "y2QNevfQsv-3",
        "colab": {}
      },
      "source": [
        "y_pred = regressor.predict(x_test)"
      ],
      "execution_count": 30,
      "outputs": []
    },
    {
      "cell_type": "code",
      "metadata": {
        "colab_type": "code",
        "id": "RZorDThusv-4",
        "colab": {
          "base_uri": "https://localhost:8080/",
          "height": 0
        },
        "outputId": "fdfbb4a1-b9d3-4f1b-f584-42de2367e6e8"
      },
      "source": [
        "car = pd.DataFrame({'Actual': y_test, 'Predicted': y_pred})\n",
        "car1 = car.head(25)\n",
        "print(car1)"
      ],
      "execution_count": 31,
      "outputs": [
        {
          "output_type": "stream",
          "text": [
            "    Actual     Predicted\n",
            "0    29155  34547.667325\n",
            "1    25030  22543.299601\n",
            "2    20820  18992.326243\n",
            "3    18999  22238.566953\n",
            "4    42750  34484.038606\n",
            "5    22350  25594.470566\n",
            "6    49580  51708.050663\n",
            "7    37070  41690.782632\n",
            "8    39275  37381.171851\n",
            "9     2423   3167.241188\n",
            "10   22940  34721.929040\n",
            "11   39275  40952.608689\n",
            "12   31750  32624.228319\n",
            "13   34100  42111.947377\n",
            "14   25520  21892.592290\n",
            "15   23235  26266.590981\n",
            "16   35200  37257.689052\n",
            "17   40950  37138.117859\n",
            "18   22495  18180.881840\n",
            "19   22695  27653.497935\n",
            "20   55600  47827.413810\n",
            "21   24995  27479.937540\n",
            "22   36600  36010.989560\n",
            "23   38995  51050.835754\n",
            "24   35750  36173.219448\n"
          ],
          "name": "stdout"
        }
      ]
    },
    {
      "cell_type": "code",
      "metadata": {
        "colab_type": "code",
        "id": "YGuDMWVUsv-6",
        "colab": {
          "base_uri": "https://localhost:8080/",
          "height": 0
        },
        "outputId": "18064aac-af98-416d-9264-e3f33895a0e6"
      },
      "source": [
        "car1.plot(kind='bar',figsize=(10,8))\n",
        "plt.grid(which='major', linestyle='-', linewidth='0.5', color='green')\n",
        "plt.grid(which='minor', linestyle=':', linewidth='0.5', color='black')\n",
        "plt.show()"
      ],
      "execution_count": 32,
      "outputs": [
        {
          "output_type": "display_data",
          "data": {
            "image/png": "[encoded data removed]",
            "text/plain": [
              "<Figure size 720x576 with 1 Axes>"
            ]
          },
          "metadata": {
            "tags": [],
            "needs_background": "light"
          }
        }
      ]
    },
    {
      "cell_type": "markdown",
      "metadata": {
        "colab_type": "text",
        "id": "3NrUQ02Cs1Yj"
      },
      "source": [
        "MAE MSE and RMSE "
      ]
    },
    {
      "cell_type": "code",
      "metadata": {
        "colab_type": "code",
        "id": "oTsidU-Ws1Ym",
        "colab": {
          "base_uri": "https://localhost:8080/",
          "height": 0
        },
        "outputId": "5826b54e-5b98-4c8d-b083-36a05284e87d"
      },
      "source": [
        "print('Mean Absolute Error:', metrics.mean_absolute_error(y_test, y_pred))  \n",
        "print('Mean Squared Error:', metrics.mean_squared_error(y_test, y_pred))  \n",
        "print('Root Mean Squared Error:', np.sqrt(metrics.mean_squared_error(y_test, y_pred)))"
      ],
      "execution_count": 33,
      "outputs": [
        {
          "output_type": "stream",
          "text": [
            "Mean Absolute Error: 6290.984239069469\n",
            "Mean Squared Error: 68242995.85738465\n",
            "Root Mean Squared Error: 8260.931900057321\n"
          ],
          "name": "stdout"
        }
      ]
    },
    {
      "cell_type": "markdown",
      "metadata": {
        "colab_type": "text",
        "id": "_1vG6IAUs1Yz"
      },
      "source": [
        "R Square value"
      ]
    },
    {
      "cell_type": "code",
      "metadata": {
        "colab_type": "code",
        "id": "vL7852rus1Y1",
        "colab": {
          "base_uri": "https://localhost:8080/",
          "height": 0
        },
        "outputId": "e5fff0f5-f3e6-4e47-f2d3-9f0513335435"
      },
      "source": [
        "from sklearn.metrics import r2_score\n",
        "r2_score=r2_score(y_test,y_pred)\n",
        "r2_score"
      ],
      "execution_count": 34,
      "outputs": [
        {
          "output_type": "execute_result",
          "data": {
            "text/plain": [
              "0.6929720526785494"
            ]
          },
          "metadata": {
            "tags": []
          },
          "execution_count": 34
        }
      ]
    },
    {
      "cell_type": "markdown",
      "metadata": {
        "id": "xWk6amJttl9q",
        "colab_type": "text"
      },
      "source": [
        "#Step 10 :- Using different algorithm and check the performance over metrics like R square, RMSE, MAE etc"
      ]
    },
    {
      "cell_type": "markdown",
      "metadata": {
        "id": "v_Vor9Vbt_wY",
        "colab_type": "text"
      },
      "source": [
        "Fitting Random Forest Regression to dataset"
      ]
    },
    {
      "cell_type": "code",
      "metadata": {
        "id": "vYhmYvz9uNj5",
        "colab_type": "code",
        "colab": {
          "base_uri": "https://localhost:8080/",
          "height": 134
        },
        "outputId": "08d2fdaa-7913-4005-9e74-0ad36db82a14"
      },
      "source": [
        "from sklearn.ensemble import RandomForestRegressor\n",
        "regressor=RandomForestRegressor(n_estimators = 300, random_state=0)\n",
        "regressor.fit(x_train,y_train)"
      ],
      "execution_count": 35,
      "outputs": [
        {
          "output_type": "execute_result",
          "data": {
            "text/plain": [
              "RandomForestRegressor(bootstrap=True, ccp_alpha=0.0, criterion='mse',\n",
              "                      max_depth=None, max_features='auto', max_leaf_nodes=None,\n",
              "                      max_samples=None, min_impurity_decrease=0.0,\n",
              "                      min_impurity_split=None, min_samples_leaf=1,\n",
              "                      min_samples_split=2, min_weight_fraction_leaf=0.0,\n",
              "                      n_estimators=300, n_jobs=None, oob_score=False,\n",
              "                      random_state=0, verbose=0, warm_start=False)"
            ]
          },
          "metadata": {
            "tags": []
          },
          "execution_count": 35
        }
      ]
    },
    {
      "cell_type": "code",
      "metadata": {
        "id": "ZSbzP9oVuoOA",
        "colab_type": "code",
        "colab": {
          "base_uri": "https://localhost:8080/",
          "height": 281
        },
        "outputId": "431a1624-56cc-4284-f720-814b72d5a7cb"
      },
      "source": [
        "y_pred=regressor.predict(x_test)\n",
        "plt.scatter(y_test,y_pred)"
      ],
      "execution_count": 36,
      "outputs": [
        {
          "output_type": "execute_result",
          "data": {
            "text/plain": [
              "<matplotlib.collections.PathCollection at 0x7f8eb30e9048>"
            ]
          },
          "metadata": {
            "tags": []
          },
          "execution_count": 36
        },
        {
          "output_type": "display_data",
          "data": {
            "image/png": "[encoded data removed]",
            "text/plain": [
              "<Figure size 432x288 with 1 Axes>"
            ]
          },
          "metadata": {
            "tags": [],
            "needs_background": "light"
          }
        }
      ]
    },
    {
      "cell_type": "code",
      "metadata": {
        "id": "gokf7x_lu1Z0",
        "colab_type": "code",
        "colab": {
          "base_uri": "https://localhost:8080/",
          "height": 281
        },
        "outputId": "c7efb253-a118-48ac-8e56-16bff6af1221"
      },
      "source": [
        "sns.distplot((y_test-y_pred),bins=50)"
      ],
      "execution_count": 37,
      "outputs": [
        {
          "output_type": "execute_result",
          "data": {
            "text/plain": [
              "<matplotlib.axes._subplots.AxesSubplot at 0x7f8eb3064a20>"
            ]
          },
          "metadata": {
            "tags": []
          },
          "execution_count": 37
        },
        {
          "output_type": "display_data",
          "data": {
            "image/png": "[encoded data removed]",
            "text/plain": [
              "<Figure size 432x288 with 1 Axes>"
            ]
          },
          "metadata": {
            "tags": [],
            "needs_background": "light"
          }
        }
      ]
    },
    {
      "cell_type": "markdown",
      "metadata": {
        "id": "0aIcrt41xHOC",
        "colab_type": "text"
      },
      "source": [
        "MAE MSE and RMSE"
      ]
    },
    {
      "cell_type": "code",
      "metadata": {
        "colab_type": "code",
        "id": "GkhF5P60w8-5",
        "colab": {
          "base_uri": "https://localhost:8080/",
          "height": 67
        },
        "outputId": "5e429956-0990-45c2-a253-c44169ca9b99"
      },
      "source": [
        "print('Mean Absolute Error:', metrics.mean_absolute_error(y_test, y_pred))  \n",
        "print('Mean Squared Error:', metrics.mean_squared_error(y_test, y_pred))  \n",
        "print('Root Mean Squared Error:', np.sqrt(metrics.mean_squared_error(y_test, y_pred)))"
      ],
      "execution_count": 38,
      "outputs": [
        {
          "output_type": "stream",
          "text": [
            "Mean Absolute Error: 2775.764579220001\n",
            "Mean Squared Error: 17077115.049309477\n",
            "Root Mean Squared Error: 4132.446617841479\n"
          ],
          "name": "stdout"
        }
      ]
    },
    {
      "cell_type": "markdown",
      "metadata": {
        "id": "QX3_9TgExA9L",
        "colab_type": "text"
      },
      "source": [
        "R Square value"
      ]
    },
    {
      "cell_type": "code",
      "metadata": {
        "colab_type": "code",
        "id": "APpdjJ5SxB4I",
        "colab": {
          "base_uri": "https://localhost:8080/",
          "height": 33
        },
        "outputId": "54b62b08-0a99-4c5c-c93c-15415517b36b"
      },
      "source": [
        "from sklearn.metrics import r2_score\n",
        "r2_score=r2_score(y_test,y_pred)\n",
        "r2_score"
      ],
      "execution_count": 39,
      "outputs": [
        {
          "output_type": "execute_result",
          "data": {
            "text/plain": [
              "0.9231693815037229"
            ]
          },
          "metadata": {
            "tags": []
          },
          "execution_count": 39
        }
      ]
    },
    {
      "cell_type": "markdown",
      "metadata": {
        "id": "vz2ttT1QxsyF",
        "colab_type": "text"
      },
      "source": [
        "R-Squared is a statistical measure of fit that indicates how much variation of a dependent variable is explained by the independent variable(s) in a regression model.An R-squared of 100% means that all movements of dependent variable are completely explained by movements in the index independent variable(s) you are interested in . Clearly Random Forest performs better than linear regression in this case as r_score value is much higher."
      ]
    }
  ]
}